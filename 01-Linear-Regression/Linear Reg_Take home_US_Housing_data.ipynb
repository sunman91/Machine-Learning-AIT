{
 "cells": [
  {
   "cell_type": "markdown",
   "id": "8d4627d4",
   "metadata": {},
   "source": [
    "About the data\n",
    "It is about the housing prices in USA.\n",
    "The objective is to be able to predict the pricing of the house based on the remaining features in the table using linear regression.\n",
    "The data contains the following columns:\n",
    "\n",
    "'Avg. Area Income': Avg. Income of residents of the city house is located in.\n",
    "\n",
    "'Avg. Area House Age': Avg Age of Houses in same city.\n",
    "\n",
    "'Avg. Area Number of Rooms': Avg Number of Rooms for Houses in same city.\n",
    "\n",
    "'Avg. Area Number of Bedrooms': Avg Number of Bedrooms for Houses in same city.\n",
    "\n",
    "'Area Population': Population of city house is located in.\n",
    "\n",
    "'Price': Price that the house sold at.\n",
    "\n",
    "'Address': Address for the house\n",
    "\n",
    "link: https://www.kaggle.com/vedavyasv/usa-housing\n"
   ]
  },
  {
   "cell_type": "code",
   "execution_count": 1,
   "id": "76bc0689",
   "metadata": {},
   "outputs": [],
   "source": [
    "import numpy as np\n",
    "import matplotlib.pyplot as plt"
   ]
  },
  {
   "cell_type": "code",
   "execution_count": 2,
   "id": "b635f082",
   "metadata": {},
   "outputs": [
    {
     "data": {
      "text/html": [
       "<div>\n",
       "<style scoped>\n",
       "    .dataframe tbody tr th:only-of-type {\n",
       "        vertical-align: middle;\n",
       "    }\n",
       "\n",
       "    .dataframe tbody tr th {\n",
       "        vertical-align: top;\n",
       "    }\n",
       "\n",
       "    .dataframe thead th {\n",
       "        text-align: right;\n",
       "    }\n",
       "</style>\n",
       "<table border=\"1\" class=\"dataframe\">\n",
       "  <thead>\n",
       "    <tr style=\"text-align: right;\">\n",
       "      <th></th>\n",
       "      <th>Avg. Area Income</th>\n",
       "      <th>Avg. Area House Age</th>\n",
       "      <th>Avg. Area Number of Rooms</th>\n",
       "      <th>Avg. Area Number of Bedrooms</th>\n",
       "      <th>Area Population</th>\n",
       "      <th>Price</th>\n",
       "      <th>Address</th>\n",
       "    </tr>\n",
       "  </thead>\n",
       "  <tbody>\n",
       "    <tr>\n",
       "      <th>1</th>\n",
       "      <td>79545.45857431678</td>\n",
       "      <td>5.682861321615587</td>\n",
       "      <td>7.009188142792237</td>\n",
       "      <td>4.09</td>\n",
       "      <td>23086.800502686456</td>\n",
       "      <td>1059033.5578701235</td>\n",
       "      <td>208 Michael Ferry Apt. 674\\nLaurabury, NE 3701...</td>\n",
       "    </tr>\n",
       "    <tr>\n",
       "      <th>2</th>\n",
       "      <td>79248.64245482568</td>\n",
       "      <td>6.0028998082752425</td>\n",
       "      <td>6.730821019094919</td>\n",
       "      <td>3.09</td>\n",
       "      <td>40173.07217364482</td>\n",
       "      <td>1505890.91484695</td>\n",
       "      <td>188 Johnson Views Suite 079\\nLake Kathleen, CA...</td>\n",
       "    </tr>\n",
       "    <tr>\n",
       "      <th>3</th>\n",
       "      <td>61287.067178656784</td>\n",
       "      <td>5.865889840310001</td>\n",
       "      <td>8.512727430375099</td>\n",
       "      <td>5.13</td>\n",
       "      <td>36882.15939970458</td>\n",
       "      <td>1058987.9878760849</td>\n",
       "      <td>9127 Elizabeth Stravenue\\nDanieltown, WI 06482...</td>\n",
       "    </tr>\n",
       "    <tr>\n",
       "      <th>4</th>\n",
       "      <td>63345.24004622798</td>\n",
       "      <td>7.1882360945186425</td>\n",
       "      <td>5.586728664827653</td>\n",
       "      <td>3.26</td>\n",
       "      <td>34310.24283090706</td>\n",
       "      <td>1260616.8066294468</td>\n",
       "      <td>USS Barnett\\nFPO AP 44820</td>\n",
       "    </tr>\n",
       "    <tr>\n",
       "      <th>5</th>\n",
       "      <td>59982.197225708034</td>\n",
       "      <td>5.040554523106283</td>\n",
       "      <td>7.839387785120487</td>\n",
       "      <td>4.23</td>\n",
       "      <td>26354.109472103148</td>\n",
       "      <td>630943.4893385402</td>\n",
       "      <td>USNS Raymond\\nFPO AE 09386</td>\n",
       "    </tr>\n",
       "  </tbody>\n",
       "</table>\n",
       "</div>"
      ],
      "text/plain": [
       "0    Avg. Area Income Avg. Area House Age Avg. Area Number of Rooms  \\\n",
       "1   79545.45857431678   5.682861321615587         7.009188142792237   \n",
       "2   79248.64245482568  6.0028998082752425         6.730821019094919   \n",
       "3  61287.067178656784   5.865889840310001         8.512727430375099   \n",
       "4   63345.24004622798  7.1882360945186425         5.586728664827653   \n",
       "5  59982.197225708034   5.040554523106283         7.839387785120487   \n",
       "\n",
       "0 Avg. Area Number of Bedrooms     Area Population               Price  \\\n",
       "1                         4.09  23086.800502686456  1059033.5578701235   \n",
       "2                         3.09   40173.07217364482    1505890.91484695   \n",
       "3                         5.13   36882.15939970458  1058987.9878760849   \n",
       "4                         3.26   34310.24283090706  1260616.8066294468   \n",
       "5                         4.23  26354.109472103148   630943.4893385402   \n",
       "\n",
       "0                                            Address  \n",
       "1  208 Michael Ferry Apt. 674\\nLaurabury, NE 3701...  \n",
       "2  188 Johnson Views Suite 079\\nLake Kathleen, CA...  \n",
       "3  9127 Elizabeth Stravenue\\nDanieltown, WI 06482...  \n",
       "4                          USS Barnett\\nFPO AP 44820  \n",
       "5                         USNS Raymond\\nFPO AE 09386  "
      ]
     },
     "execution_count": 2,
     "metadata": {},
     "output_type": "execute_result"
    }
   ],
   "source": [
    "#using pandas for easier visualisation of the data\n",
    "import pandas as pd\n",
    "df=pd.read_csv('USA_Housing.csv', sep=',',header=None)\n",
    "new_header = df.iloc[0]\n",
    "df = df[1:]\n",
    "df.columns = new_header\n",
    "df.head()"
   ]
  },
  {
   "cell_type": "code",
   "execution_count": 3,
   "id": "90fc10a8",
   "metadata": {},
   "outputs": [
    {
     "data": {
      "text/html": [
       "<div>\n",
       "<style scoped>\n",
       "    .dataframe tbody tr th:only-of-type {\n",
       "        vertical-align: middle;\n",
       "    }\n",
       "\n",
       "    .dataframe tbody tr th {\n",
       "        vertical-align: top;\n",
       "    }\n",
       "\n",
       "    .dataframe thead th {\n",
       "        text-align: right;\n",
       "    }\n",
       "</style>\n",
       "<table border=\"1\" class=\"dataframe\">\n",
       "  <thead>\n",
       "    <tr style=\"text-align: right;\">\n",
       "      <th></th>\n",
       "      <th>Avg. Area Income</th>\n",
       "      <th>Avg. Area House Age</th>\n",
       "      <th>Avg. Area Number of Rooms</th>\n",
       "      <th>Avg. Area Number of Bedrooms</th>\n",
       "      <th>Area Population</th>\n",
       "      <th>Price</th>\n",
       "    </tr>\n",
       "  </thead>\n",
       "  <tbody>\n",
       "    <tr>\n",
       "      <th>1</th>\n",
       "      <td>79545.45857431678</td>\n",
       "      <td>5.682861321615587</td>\n",
       "      <td>7.009188142792237</td>\n",
       "      <td>4.09</td>\n",
       "      <td>23086.800502686456</td>\n",
       "      <td>1059033.5578701235</td>\n",
       "    </tr>\n",
       "    <tr>\n",
       "      <th>2</th>\n",
       "      <td>79248.64245482568</td>\n",
       "      <td>6.0028998082752425</td>\n",
       "      <td>6.730821019094919</td>\n",
       "      <td>3.09</td>\n",
       "      <td>40173.07217364482</td>\n",
       "      <td>1505890.91484695</td>\n",
       "    </tr>\n",
       "    <tr>\n",
       "      <th>3</th>\n",
       "      <td>61287.067178656784</td>\n",
       "      <td>5.865889840310001</td>\n",
       "      <td>8.512727430375099</td>\n",
       "      <td>5.13</td>\n",
       "      <td>36882.15939970458</td>\n",
       "      <td>1058987.9878760849</td>\n",
       "    </tr>\n",
       "    <tr>\n",
       "      <th>4</th>\n",
       "      <td>63345.24004622798</td>\n",
       "      <td>7.1882360945186425</td>\n",
       "      <td>5.586728664827653</td>\n",
       "      <td>3.26</td>\n",
       "      <td>34310.24283090706</td>\n",
       "      <td>1260616.8066294468</td>\n",
       "    </tr>\n",
       "    <tr>\n",
       "      <th>5</th>\n",
       "      <td>59982.197225708034</td>\n",
       "      <td>5.040554523106283</td>\n",
       "      <td>7.839387785120487</td>\n",
       "      <td>4.23</td>\n",
       "      <td>26354.109472103148</td>\n",
       "      <td>630943.4893385402</td>\n",
       "    </tr>\n",
       "  </tbody>\n",
       "</table>\n",
       "</div>"
      ],
      "text/plain": [
       "0    Avg. Area Income Avg. Area House Age Avg. Area Number of Rooms  \\\n",
       "1   79545.45857431678   5.682861321615587         7.009188142792237   \n",
       "2   79248.64245482568  6.0028998082752425         6.730821019094919   \n",
       "3  61287.067178656784   5.865889840310001         8.512727430375099   \n",
       "4   63345.24004622798  7.1882360945186425         5.586728664827653   \n",
       "5  59982.197225708034   5.040554523106283         7.839387785120487   \n",
       "\n",
       "0 Avg. Area Number of Bedrooms     Area Population               Price  \n",
       "1                         4.09  23086.800502686456  1059033.5578701235  \n",
       "2                         3.09   40173.07217364482    1505890.91484695  \n",
       "3                         5.13   36882.15939970458  1058987.9878760849  \n",
       "4                         3.26   34310.24283090706  1260616.8066294468  \n",
       "5                         4.23  26354.109472103148   630943.4893385402  "
      ]
     },
     "execution_count": 3,
     "metadata": {},
     "output_type": "execute_result"
    }
   ],
   "source": [
    "#for simplicity we drop the Address columns as it is not numeric and does not help in regression.\n",
    "df = df.drop(['Address'],axis = 1)\n",
    "df.head()"
   ]
  },
  {
   "cell_type": "code",
   "execution_count": 4,
   "id": "a828dec6",
   "metadata": {},
   "outputs": [
    {
     "name": "stdout",
     "output_type": "stream",
     "text": [
      "<class 'pandas.core.frame.DataFrame'>\n",
      "RangeIndex: 5000 entries, 1 to 5000\n",
      "Data columns (total 6 columns):\n",
      " #   Column                        Non-Null Count  Dtype \n",
      "---  ------                        --------------  ----- \n",
      " 0   Avg. Area Income              5000 non-null   object\n",
      " 1   Avg. Area House Age           5000 non-null   object\n",
      " 2   Avg. Area Number of Rooms     5000 non-null   object\n",
      " 3   Avg. Area Number of Bedrooms  5000 non-null   object\n",
      " 4   Area Population               5000 non-null   object\n",
      " 5   Price                         5000 non-null   object\n",
      "dtypes: object(6)\n",
      "memory usage: 234.5+ KB\n"
     ]
    }
   ],
   "source": [
    "df.info()"
   ]
  },
  {
   "cell_type": "code",
   "execution_count": 5,
   "id": "d3de39e2",
   "metadata": {},
   "outputs": [
    {
     "data": {
      "text/html": [
       "<div>\n",
       "<style scoped>\n",
       "    .dataframe tbody tr th:only-of-type {\n",
       "        vertical-align: middle;\n",
       "    }\n",
       "\n",
       "    .dataframe tbody tr th {\n",
       "        vertical-align: top;\n",
       "    }\n",
       "\n",
       "    .dataframe thead th {\n",
       "        text-align: right;\n",
       "    }\n",
       "</style>\n",
       "<table border=\"1\" class=\"dataframe\">\n",
       "  <thead>\n",
       "    <tr style=\"text-align: right;\">\n",
       "      <th></th>\n",
       "      <th>Avg. Area Income</th>\n",
       "      <th>Avg. Area House Age</th>\n",
       "      <th>Avg. Area Number of Rooms</th>\n",
       "      <th>Avg. Area Number of Bedrooms</th>\n",
       "      <th>Area Population</th>\n",
       "      <th>Price</th>\n",
       "    </tr>\n",
       "  </thead>\n",
       "  <tbody>\n",
       "    <tr>\n",
       "      <th>count</th>\n",
       "      <td>5000.000000</td>\n",
       "      <td>5000.000000</td>\n",
       "      <td>5000.000000</td>\n",
       "      <td>5000.000000</td>\n",
       "      <td>5000.000000</td>\n",
       "      <td>5.000000e+03</td>\n",
       "    </tr>\n",
       "    <tr>\n",
       "      <th>mean</th>\n",
       "      <td>68583.108984</td>\n",
       "      <td>5.977222</td>\n",
       "      <td>6.987792</td>\n",
       "      <td>3.981330</td>\n",
       "      <td>36163.516039</td>\n",
       "      <td>1.232073e+06</td>\n",
       "    </tr>\n",
       "    <tr>\n",
       "      <th>std</th>\n",
       "      <td>10657.991214</td>\n",
       "      <td>0.991456</td>\n",
       "      <td>1.005833</td>\n",
       "      <td>1.234137</td>\n",
       "      <td>9925.650114</td>\n",
       "      <td>3.531176e+05</td>\n",
       "    </tr>\n",
       "    <tr>\n",
       "      <th>min</th>\n",
       "      <td>17796.631190</td>\n",
       "      <td>2.644304</td>\n",
       "      <td>3.236194</td>\n",
       "      <td>2.000000</td>\n",
       "      <td>172.610686</td>\n",
       "      <td>1.593866e+04</td>\n",
       "    </tr>\n",
       "    <tr>\n",
       "      <th>25%</th>\n",
       "      <td>61480.562388</td>\n",
       "      <td>5.322283</td>\n",
       "      <td>6.299250</td>\n",
       "      <td>3.140000</td>\n",
       "      <td>29403.928702</td>\n",
       "      <td>9.975771e+05</td>\n",
       "    </tr>\n",
       "    <tr>\n",
       "      <th>50%</th>\n",
       "      <td>68804.286404</td>\n",
       "      <td>5.970429</td>\n",
       "      <td>7.002902</td>\n",
       "      <td>4.050000</td>\n",
       "      <td>36199.406689</td>\n",
       "      <td>1.232669e+06</td>\n",
       "    </tr>\n",
       "    <tr>\n",
       "      <th>75%</th>\n",
       "      <td>75783.338666</td>\n",
       "      <td>6.650808</td>\n",
       "      <td>7.665871</td>\n",
       "      <td>4.490000</td>\n",
       "      <td>42861.290769</td>\n",
       "      <td>1.471210e+06</td>\n",
       "    </tr>\n",
       "    <tr>\n",
       "      <th>max</th>\n",
       "      <td>107701.748378</td>\n",
       "      <td>9.519088</td>\n",
       "      <td>10.759588</td>\n",
       "      <td>6.500000</td>\n",
       "      <td>69621.713378</td>\n",
       "      <td>2.469066e+06</td>\n",
       "    </tr>\n",
       "  </tbody>\n",
       "</table>\n",
       "</div>"
      ],
      "text/plain": [
       "0      Avg. Area Income  Avg. Area House Age  Avg. Area Number of Rooms  \\\n",
       "count       5000.000000          5000.000000                5000.000000   \n",
       "mean       68583.108984             5.977222                   6.987792   \n",
       "std        10657.991214             0.991456                   1.005833   \n",
       "min        17796.631190             2.644304                   3.236194   \n",
       "25%        61480.562388             5.322283                   6.299250   \n",
       "50%        68804.286404             5.970429                   7.002902   \n",
       "75%        75783.338666             6.650808                   7.665871   \n",
       "max       107701.748378             9.519088                  10.759588   \n",
       "\n",
       "0      Avg. Area Number of Bedrooms  Area Population         Price  \n",
       "count                   5000.000000      5000.000000  5.000000e+03  \n",
       "mean                       3.981330     36163.516039  1.232073e+06  \n",
       "std                        1.234137      9925.650114  3.531176e+05  \n",
       "min                        2.000000       172.610686  1.593866e+04  \n",
       "25%                        3.140000     29403.928702  9.975771e+05  \n",
       "50%                        4.050000     36199.406689  1.232669e+06  \n",
       "75%                        4.490000     42861.290769  1.471210e+06  \n",
       "max                        6.500000     69621.713378  2.469066e+06  "
      ]
     },
     "execution_count": 5,
     "metadata": {},
     "output_type": "execute_result"
    }
   ],
   "source": [
    "df = df.astype(float) #convert all data type to float for calculations\n",
    "# It is a dataset of 5000 data points with 5 features and the price\n",
    "# There seems to be no null values in the data\n",
    "df.describe()"
   ]
  },
  {
   "cell_type": "code",
   "execution_count": 6,
   "id": "2d9dfd06",
   "metadata": {},
   "outputs": [],
   "source": [
    "#since data is very varied accross the features we use normalisation\n",
    "def normalized_data(data):\n",
    "    means = np.mean(data, axis=0) #calculate the mean\n",
    "    stds = np.std(data, axis=0) #calculate the std \n",
    "    data_norm = (data - means) / stds\n",
    "    return data_norm"
   ]
  },
  {
   "cell_type": "code",
   "execution_count": 7,
   "id": "f79a1881",
   "metadata": {},
   "outputs": [
    {
     "data": {
      "text/html": [
       "<div>\n",
       "<style scoped>\n",
       "    .dataframe tbody tr th:only-of-type {\n",
       "        vertical-align: middle;\n",
       "    }\n",
       "\n",
       "    .dataframe tbody tr th {\n",
       "        vertical-align: top;\n",
       "    }\n",
       "\n",
       "    .dataframe thead th {\n",
       "        text-align: right;\n",
       "    }\n",
       "</style>\n",
       "<table border=\"1\" class=\"dataframe\">\n",
       "  <thead>\n",
       "    <tr style=\"text-align: right;\">\n",
       "      <th></th>\n",
       "      <th>Avg. Area Income</th>\n",
       "      <th>Avg. Area House Age</th>\n",
       "      <th>Avg. Area Number of Rooms</th>\n",
       "      <th>Avg. Area Number of Bedrooms</th>\n",
       "      <th>Area Population</th>\n",
       "      <th>Price</th>\n",
       "    </tr>\n",
       "  </thead>\n",
       "  <tbody>\n",
       "    <tr>\n",
       "      <th>1</th>\n",
       "      <td>1.028660</td>\n",
       "      <td>-0.296927</td>\n",
       "      <td>0.021274</td>\n",
       "      <td>0.088062</td>\n",
       "      <td>-1.317599</td>\n",
       "      <td>-0.490081</td>\n",
       "    </tr>\n",
       "    <tr>\n",
       "      <th>2</th>\n",
       "      <td>1.000808</td>\n",
       "      <td>0.025902</td>\n",
       "      <td>-0.255506</td>\n",
       "      <td>-0.722301</td>\n",
       "      <td>0.403999</td>\n",
       "      <td>0.775508</td>\n",
       "    </tr>\n",
       "    <tr>\n",
       "      <th>3</th>\n",
       "      <td>-0.684629</td>\n",
       "      <td>-0.112303</td>\n",
       "      <td>1.516243</td>\n",
       "      <td>0.930840</td>\n",
       "      <td>0.072410</td>\n",
       "      <td>-0.490211</td>\n",
       "    </tr>\n",
       "    <tr>\n",
       "      <th>4</th>\n",
       "      <td>-0.491499</td>\n",
       "      <td>1.221572</td>\n",
       "      <td>-1.393077</td>\n",
       "      <td>-0.584540</td>\n",
       "      <td>-0.186734</td>\n",
       "      <td>0.080843</td>\n",
       "    </tr>\n",
       "    <tr>\n",
       "      <th>5</th>\n",
       "      <td>-0.807073</td>\n",
       "      <td>-0.944834</td>\n",
       "      <td>0.846742</td>\n",
       "      <td>0.201513</td>\n",
       "      <td>-0.988387</td>\n",
       "      <td>-1.702518</td>\n",
       "    </tr>\n",
       "  </tbody>\n",
       "</table>\n",
       "</div>"
      ],
      "text/plain": [
       "0  Avg. Area Income  Avg. Area House Age  Avg. Area Number of Rooms  \\\n",
       "1          1.028660            -0.296927                   0.021274   \n",
       "2          1.000808             0.025902                  -0.255506   \n",
       "3         -0.684629            -0.112303                   1.516243   \n",
       "4         -0.491499             1.221572                  -1.393077   \n",
       "5         -0.807073            -0.944834                   0.846742   \n",
       "\n",
       "0  Avg. Area Number of Bedrooms  Area Population     Price  \n",
       "1                      0.088062        -1.317599 -0.490081  \n",
       "2                     -0.722301         0.403999  0.775508  \n",
       "3                      0.930840         0.072410 -0.490211  \n",
       "4                     -0.584540        -0.186734  0.080843  \n",
       "5                      0.201513        -0.988387 -1.702518  "
      ]
     },
     "execution_count": 7,
     "metadata": {},
     "output_type": "execute_result"
    }
   ],
   "source": [
    "df_norm =  normalized_data(df)\n",
    "df_norm.head()"
   ]
  },
  {
   "cell_type": "code",
   "execution_count": 8,
   "id": "83904828",
   "metadata": {},
   "outputs": [
    {
     "data": {
      "text/plain": [
       "array([-0.49008146,  0.77550829, -0.49021053,  0.08084277, -1.70251849])"
      ]
     },
     "execution_count": 8,
     "metadata": {},
     "output_type": "execute_result"
    }
   ],
   "source": [
    "#since our target is Price that will be the value of y\n",
    "y = np.array(df_norm['Price'])\n",
    "y[:5]\n",
    "#y.shape"
   ]
  },
  {
   "cell_type": "code",
   "execution_count": 11,
   "id": "c9a7bc6f",
   "metadata": {},
   "outputs": [
    {
     "data": {
      "text/html": [
       "<div>\n",
       "<style scoped>\n",
       "    .dataframe tbody tr th:only-of-type {\n",
       "        vertical-align: middle;\n",
       "    }\n",
       "\n",
       "    .dataframe tbody tr th {\n",
       "        vertical-align: top;\n",
       "    }\n",
       "\n",
       "    .dataframe thead th {\n",
       "        text-align: right;\n",
       "    }\n",
       "</style>\n",
       "<table border=\"1\" class=\"dataframe\">\n",
       "  <thead>\n",
       "    <tr style=\"text-align: right;\">\n",
       "      <th></th>\n",
       "      <th>Avg. Area Income</th>\n",
       "      <th>Avg. Area House Age</th>\n",
       "      <th>Avg. Area Number of Rooms</th>\n",
       "      <th>Avg. Area Number of Bedrooms</th>\n",
       "      <th>Area Population</th>\n",
       "    </tr>\n",
       "  </thead>\n",
       "  <tbody>\n",
       "    <tr>\n",
       "      <th>1</th>\n",
       "      <td>1.028660</td>\n",
       "      <td>-0.296927</td>\n",
       "      <td>0.021274</td>\n",
       "      <td>0.088062</td>\n",
       "      <td>-1.317599</td>\n",
       "    </tr>\n",
       "    <tr>\n",
       "      <th>2</th>\n",
       "      <td>1.000808</td>\n",
       "      <td>0.025902</td>\n",
       "      <td>-0.255506</td>\n",
       "      <td>-0.722301</td>\n",
       "      <td>0.403999</td>\n",
       "    </tr>\n",
       "    <tr>\n",
       "      <th>3</th>\n",
       "      <td>-0.684629</td>\n",
       "      <td>-0.112303</td>\n",
       "      <td>1.516243</td>\n",
       "      <td>0.930840</td>\n",
       "      <td>0.072410</td>\n",
       "    </tr>\n",
       "    <tr>\n",
       "      <th>4</th>\n",
       "      <td>-0.491499</td>\n",
       "      <td>1.221572</td>\n",
       "      <td>-1.393077</td>\n",
       "      <td>-0.584540</td>\n",
       "      <td>-0.186734</td>\n",
       "    </tr>\n",
       "    <tr>\n",
       "      <th>5</th>\n",
       "      <td>-0.807073</td>\n",
       "      <td>-0.944834</td>\n",
       "      <td>0.846742</td>\n",
       "      <td>0.201513</td>\n",
       "      <td>-0.988387</td>\n",
       "    </tr>\n",
       "  </tbody>\n",
       "</table>\n",
       "</div>"
      ],
      "text/plain": [
       "0  Avg. Area Income  Avg. Area House Age  Avg. Area Number of Rooms  \\\n",
       "1          1.028660            -0.296927                   0.021274   \n",
       "2          1.000808             0.025902                  -0.255506   \n",
       "3         -0.684629            -0.112303                   1.516243   \n",
       "4         -0.491499             1.221572                  -1.393077   \n",
       "5         -0.807073            -0.944834                   0.846742   \n",
       "\n",
       "0  Avg. Area Number of Bedrooms  Area Population  \n",
       "1                      0.088062        -1.317599  \n",
       "2                     -0.722301         0.403999  \n",
       "3                      0.930840         0.072410  \n",
       "4                     -0.584540        -0.186734  \n",
       "5                      0.201513        -0.988387  "
      ]
     },
     "execution_count": 11,
     "metadata": {},
     "output_type": "execute_result"
    }
   ],
   "source": [
    "#confirmation of slicing to add to X\n",
    "df_norm.iloc[:5,:-1]"
   ]
  },
  {
   "cell_type": "code",
   "execution_count": 12,
   "id": "85b7167b",
   "metadata": {},
   "outputs": [
    {
     "data": {
      "text/plain": [
       "(5000, 5)"
      ]
     },
     "execution_count": 12,
     "metadata": {},
     "output_type": "execute_result"
    }
   ],
   "source": [
    "#X will be the rest of the features in the dataframe\n",
    "X = np.array(df_norm.iloc[:,:-1])\n",
    "X.shape"
   ]
  },
  {
   "cell_type": "code",
   "execution_count": 13,
   "id": "824615ba",
   "metadata": {},
   "outputs": [],
   "source": [
    "#adding an intercept to X\n",
    "X = np.insert(X, 0, 1, axis=1)"
   ]
  },
  {
   "cell_type": "code",
   "execution_count": 14,
   "id": "18bc2555",
   "metadata": {},
   "outputs": [
    {
     "name": "stdout",
     "output_type": "stream",
     "text": [
      "[[ 1.          1.02865969 -0.29692705  0.02127433  0.08806222 -1.31759867]\n",
      " [ 1.          1.00080775  0.02590164 -0.25550611 -0.72230146  0.40399945]\n",
      " [ 1.         -0.68462916 -0.11230283  1.5162435   0.93084045  0.07240989]\n",
      " [ 1.         -0.49149907  1.22157207 -1.39307717 -0.58453963 -0.18673422]\n",
      " [ 1.         -0.80707253 -0.94483368  0.84674187  0.20151314 -0.98838741]]\n",
      "[-0.49008146  0.77550829 -0.49021053  0.08084277 -1.70251849]\n",
      "(5000, 6)\n",
      "(5000,)\n"
     ]
    }
   ],
   "source": [
    "#Visualising the shape of each X and y\n",
    "print(X[:5])\n",
    "print(y[:5])\n",
    "print(X.shape)\n",
    "print(y.shape)"
   ]
  },
  {
   "cell_type": "code",
   "execution_count": 15,
   "id": "b3fc13ab",
   "metadata": {},
   "outputs": [],
   "source": [
    "#split the dataset into train and test\n",
    "from sklearn.model_selection import train_test_split\n",
    "X_train, X_test, y_train, y_test = train_test_split(X, y, test_size=0.3, random_state=42)"
   ]
  },
  {
   "cell_type": "code",
   "execution_count": 16,
   "id": "f6207d98",
   "metadata": {},
   "outputs": [
    {
     "name": "stdout",
     "output_type": "stream",
     "text": [
      "(3500, 6)\n",
      "(3500,)\n",
      "(1500, 6)\n",
      "(1500,)\n"
     ]
    }
   ],
   "source": [
    "print(X_train.shape)\n",
    "print(y_train.shape)\n",
    "print(X_test.shape)\n",
    "print(y_test.shape)"
   ]
  },
  {
   "cell_type": "markdown",
   "id": "45eb5bbd",
   "metadata": {},
   "source": [
    "# The Normal equation method\n"
   ]
  },
  {
   "cell_type": "code",
   "execution_count": 19,
   "id": "696d5ccf",
   "metadata": {},
   "outputs": [],
   "source": [
    "#the norm equation to the find best theta for the linear regression\n",
    "def normal_equation(X,y):\n",
    "    theta = np.matmul(np.matmul(np.linalg.inv(np.matmul(X.T, X)),X.T),y)\n",
    "    return theta"
   ]
  },
  {
   "cell_type": "code",
   "execution_count": 20,
   "id": "2e8a1d5a",
   "metadata": {},
   "outputs": [
    {
     "data": {
      "text/plain": [
       "array([-0.00224882,  0.65272181,  0.46493181,  0.34132186,  0.00825197,\n",
       "        0.42771714])"
      ]
     },
     "execution_count": 20,
     "metadata": {},
     "output_type": "execute_result"
    }
   ],
   "source": [
    "theta = norm_eq(X_train,y_train)\n",
    "theta"
   ]
  },
  {
   "cell_type": "code",
   "execution_count": 22,
   "id": "4fce50db",
   "metadata": {},
   "outputs": [],
   "source": [
    "y_hat =  np.matmul(X_test,theta)"
   ]
  },
  {
   "cell_type": "code",
   "execution_count": 23,
   "id": "a0f758a1",
   "metadata": {},
   "outputs": [],
   "source": [
    "#to calculate the goodness of fit\n",
    "def goodness_of_fit(y, y_predicted):\n",
    "    r_square = 1-(np.sum((y-y_predicted)**2)/np.sum((y-np.mean(y))**2))\n",
    "    #raise NotImplementedError()\n",
    "    return r_square"
   ]
  },
  {
   "cell_type": "code",
   "execution_count": 24,
   "id": "9f3c8dc7",
   "metadata": {},
   "outputs": [
    {
     "data": {
      "text/plain": [
       "0.9146818498754016"
      ]
     },
     "execution_count": 24,
     "metadata": {},
     "output_type": "execute_result"
    }
   ],
   "source": [
    "r_sq_norm = goodness_of_fit(y_test, y_hat)\n",
    "r_sq_norm"
   ]
  },
  {
   "cell_type": "markdown",
   "id": "ce158513",
   "metadata": {},
   "source": [
    "0.9146818498754016 seems like a very good value for r2. Hence our model performs well to predict the Housing Price given the above features using normal equation."
   ]
  },
  {
   "cell_type": "markdown",
   "id": "232f2a8f",
   "metadata": {},
   "source": [
    "# Now using Gradient Descent"
   ]
  },
  {
   "cell_type": "code",
   "execution_count": 25,
   "id": "e43fb993",
   "metadata": {},
   "outputs": [],
   "source": [
    "#define the functions\n",
    "def h(X,theta):\n",
    "    y_predicted = np.dot(X,theta)\n",
    "    return y_predicted\n",
    "\n",
    "def cost(theta, X, y):\n",
    "    yhat = h(X,theta)\n",
    "    dy = yhat - y\n",
    "    J = (1/2) * (dy.T@ dy)\n",
    "    return J\n",
    "\n",
    "def gradient(X, y, theta):\n",
    "    grad = X.T @((X@theta)-y)    \n",
    "    return grad\n",
    "\n",
    "def gradient_descent(X, y, theta_initial, alpha, num_iters):\n",
    "    J_per_iter = np.zeros(num_iters)\n",
    "    gradient_per_iter = np.zeros((num_iters,len(theta_initial)))\n",
    "    # initialize theta\n",
    "    theta = theta_initial\n",
    "    for iter in np.arange(num_iters):\n",
    "        grad = gradient(X, y, theta)\n",
    "        theta = theta - alpha * grad\n",
    "        J_per_iter[iter] = cost(theta, X, y)\n",
    "        gradient_per_iter[iter] = grad.T\n",
    "    return (theta, J_per_iter, gradient_per_iter)"
   ]
  },
  {
   "cell_type": "code",
   "execution_count": 26,
   "id": "81472240",
   "metadata": {},
   "outputs": [
    {
     "name": "stdout",
     "output_type": "stream",
     "text": [
      "theta: [-0.00226017  0.65263454  0.46488404  0.34022982  0.00937518  0.42772553]\n",
      "J_per_iter: [822.51648793 433.84450544 271.99870377 202.61817602 172.03445028\n",
      " 158.12909374 151.5699591  148.33851446 146.66703649 145.75784043\n",
      " 145.23925823 144.93112455 144.74197301 144.62299881 144.54685734\n",
      " 144.49754417 144.46535009 144.44422097 144.43030594 144.42112138\n",
      " 144.41505037 144.41103369 144.40837459 144.40661355 144.40544699]\n",
      "gradient_per_iter [[ 3.81986485e+01 -2.30230117e+03 -1.62283340e+03 -1.19300433e+03\n",
      "  -6.44717650e+02 -1.45058989e+03]\n",
      " [ 1.48087920e+01 -1.48331317e+03 -1.05512112e+03 -6.75777061e+02\n",
      "  -2.06511244e+02 -9.61602107e+02]\n",
      " [ 2.97317861e+00 -9.57947018e+02 -6.86065170e+02 -4.09400385e+02\n",
      "  -1.14391541e+01 -6.36265935e+02]\n",
      " [-2.49541756e+00 -6.20020300e+02 -4.46235769e+02 -2.66792786e+02\n",
      "   6.80281872e+01 -4.20347093e+02]\n",
      " [-4.57824654e+00 -4.02159419e+02 -2.90403301e+02 -1.86140343e+02\n",
      "   9.37052072e+01 -2.77324687e+02]\n",
      " [-4.95658710e+00 -2.61421072e+02 -1.89141123e+02 -1.37275202e+02\n",
      "   9.53693280e+01 -1.82737078e+02]\n",
      " [-4.55454723e+00 -1.70334566e+02 -1.23321632e+02 -1.05368522e+02\n",
      "   8.72035076e+01 -1.20264346e+02]\n",
      " [-3.86172314e+00 -1.11276129e+02 -8.05195386e+01 -8.30306729e+01\n",
      "   7.58229736e+01 -7.90505312e+01]\n",
      " [-3.12316273e+00 -7.29127864e+01 -5.26666554e+01 -6.64889536e+01\n",
      "   6.41916253e+01 -5.18905274e+01]\n",
      " [-2.44987398e+00 -4.79427914e+01 -3.45251907e+01 -5.37400540e+01\n",
      "   5.35304945e+01 -3.40106783e+01]\n",
      " [-1.88213854e+00 -3.16539700e+01 -2.26950513e+01 -4.36573086e+01\n",
      "   4.42452397e+01 -2.22526735e+01]\n",
      " [-1.42506795e+00 -2.10009234e+01 -1.49689223e+01 -3.55587152e+01\n",
      "   3.63745215e+01 -1.45293340e+01]\n",
      " [-1.06803364e+00 -1.40128226e+01 -9.91353816e+00 -2.89968995e+01\n",
      "   2.98045895e+01 -9.46268853e+00]\n",
      " [-7.94873807e-01 -9.41257621e+00 -6.59792521e+00 -2.36558338e+01\n",
      "   2.43700499e+01 -6.14377861e+00]\n",
      " [-5.88932638e-01 -6.37151827e+00 -4.41707677e+00 -1.92988984e+01\n",
      "   1.98994781e+01 -3.97350520e+00]\n",
      " [-4.35284781e-01 -4.35117181e+00 -2.97756291e+00 -1.57417117e+01\n",
      "   1.62345496e+01 -2.55730837e+00]\n",
      " [-3.21488289e-01 -3.00105945e+00 -2.02332293e+00 -1.28370182e+01\n",
      "   1.32366790e+01 -1.63554273e+00]\n",
      " [-2.37616763e-01 -2.09263988e+00 -1.38752202e+00 -1.04655721e+01\n",
      "   1.07879651e+01 -1.03749016e+00]\n",
      " [-1.75978193e-01 -1.47655741e+00 -9.61312739e-01 -8.53011924e+00\n",
      "   8.78971923e+00 -6.51007730e-01]\n",
      " [-1.30732462e-01 -1.05495118e+00 -6.73560281e-01 -6.95108693e+00\n",
      "   7.16013117e+00 -4.02508234e-01]\n",
      " [-9.75104032e-02 -7.63501163e-01 -4.77678966e-01 -5.66329962e+00\n",
      "   5.83178717e+00 -2.43764185e-01]\n",
      " [-7.30784009e-02 -5.59775026e-01 -3.43081706e-01 -4.61337583e+00\n",
      "   4.74934706e+00 -1.43214764e-01]\n",
      " [-5.50619886e-02 -4.15655443e-01 -2.49622534e-01 -3.75761741e+00\n",
      "   3.86749411e+00 -8.02426758e-02]\n",
      " [-4.17272452e-02 -3.12412430e-01 -1.83981715e-01 -3.06027901e+00\n",
      "   3.14918079e+00 -4.14087038e-02]\n",
      " [-3.18126474e-02 -2.37491638e-01 -1.37312140e-01 -2.49214267e+00\n",
      "   2.56415393e+00 -1.79760290e-02]]\n"
     ]
    }
   ],
   "source": [
    "theta_i = np.zeros((6))\n",
    "alpha = 0.0001\n",
    "num_of_iters = 25\n",
    "\n",
    "\n",
    "(theta, J_per_iter, gradient_per_iter) = gradient_descent(X_train, y_train, \n",
    "                                                          theta_initial = theta_i , alpha = alpha, num_iters = 25)\n",
    "print(\"theta:\", theta)\n",
    "print(\"J_per_iter:\", J_per_iter)\n",
    "print(\"gradient_per_iter\", gradient_per_iter)"
   ]
  },
  {
   "cell_type": "code",
   "execution_count": 27,
   "id": "2dbe0b0c",
   "metadata": {},
   "outputs": [
    {
     "data": {
      "image/png": "[encoded data removed]",
      "text/plain": [
       "<Figure size 432x288 with 1 Axes>"
      ]
     },
     "metadata": {
      "needs_background": "light"
     },
     "output_type": "display_data"
    }
   ],
   "source": [
    "iterations = J_per_iter.shape[0]\n",
    "def cost_plot(iterations, costs):\n",
    "    x_loss = np.arange(0, iterations, 1)\n",
    "\n",
    "    plt.plot(x_loss, costs, 'b-')\n",
    "    plt.xlabel('iterations')\n",
    "    plt.ylabel('loss')\n",
    "    plt.show()\n",
    "    \n",
    "cost_plot(iterations, J_per_iter)"
   ]
  },
  {
   "cell_type": "markdown",
   "id": "b2110c9f",
   "metadata": {},
   "source": [
    "The loss seems stable after 5th iteration. So only 5 iterations should be enough to give a good model."
   ]
  },
  {
   "cell_type": "code",
   "execution_count": 28,
   "id": "17280781",
   "metadata": {},
   "outputs": [],
   "source": [
    "y_hat_gd =  h(X_test, theta)"
   ]
  },
  {
   "cell_type": "code",
   "execution_count": 29,
   "id": "9a9b4b4e",
   "metadata": {},
   "outputs": [
    {
     "data": {
      "text/plain": [
       "0.9146605160859345"
      ]
     },
     "execution_count": 29,
     "metadata": {},
     "output_type": "execute_result"
    }
   ],
   "source": [
    "r_sq_gd = goodness_of_fit(y_test, y_hat_gd)\n",
    "r_sq_gd"
   ]
  },
  {
   "cell_type": "markdown",
   "id": "2c013d08",
   "metadata": {},
   "source": [
    "The r2 value is very similar to that from normal equation.\n",
    "Hence for linear regression you can use normal equation directly instead of Gradient descent.\n"
   ]
  },
  {
   "cell_type": "code",
   "execution_count": null,
   "id": "ea19f39d",
   "metadata": {},
   "outputs": [],
   "source": []
  }
 ],
 "metadata": {
  "kernelspec": {
   "display_name": "Python 3 (ipykernel)",
   "language": "python",
   "name": "python3"
  },
  "language_info": {
   "codemirror_mode": {
    "name": "ipython",
    "version": 3
   },
   "file_extension": ".py",
   "mimetype": "text/x-python",
   "name": "python",
   "nbconvert_exporter": "python",
   "pygments_lexer": "ipython3",
   "version": "3.8.3"
  }
 },
 "nbformat": 4,
 "nbformat_minor": 5
}
