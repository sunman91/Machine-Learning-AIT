{
 "cells": [
  {
   "cell_type": "markdown",
   "metadata": {},
   "source": [
    "Before you turn this problem in, make sure everything runs as expected. First, **restart the kernel** (in the menubar, select Kernel$\\rightarrow$Restart) and then **run all cells** (in the menubar, select Cell$\\rightarrow$Run All).\n",
    "\n",
    "Make sure you fill in any place that says `YOUR CODE HERE` or \"YOUR ANSWER HERE\", as well as your name and collaborators below:"
   ]
  },
  {
   "cell_type": "code",
   "execution_count": 1,
   "metadata": {},
   "outputs": [],
   "source": [
    "NAME = \"Sunny Kumar Tuladhar\"\n",
    "ID = \"st122336\""
   ]
  },
  {
   "cell_type": "markdown",
   "metadata": {},
   "source": [
    "---"
   ]
  },
  {
   "cell_type": "markdown",
   "metadata": {},
   "source": [
    "# Machine Learning Lab 04: Multinomial Logistic Regression\n"
   ]
  },
  {
   "cell_type": "markdown",
   "metadata": {},
   "source": [
    "## Generalized Linear Models\n",
    "\n",
    "From lecture, we know that members of the exponential family distributions can be written in the form\n",
    "$$p(y;\\eta) = b(y)e^{(\\eta^\\top T(y)-a(\\eta))},$$\n",
    "where\n",
    "- $\\eta$ is the natural parameter or canonical paramter of the distribution,\n",
    "- $T(y)$ is the sufficient statistic (we normally use $T(y) = y$),\n",
    "- $b(y)$ is an arbitrary scalar function of y, and\n",
    "- $a(\\eta)$ is the log partition function. We use $e^{a(\\eta)}$ just to normalize the distribution to have a sum or integral of 1.\n",
    "\n",
    "Each choice of $T$, $a$, and $b$ defines a family (set) of distributions parameterized by $\\eta$.\n",
    "\n",
    "If we can write $p(y \\mid \\mathbf{x} ; \\theta)$ as a member of the exponential family of distributions with parameters $\\mathbf{\\eta}$ with\n",
    "$\\eta_i = \\theta^\\top_i \\mathbf{x}$, we obtain a *generalized linear model* that can be optimized using the maximum likelihood principle.\n",
    "\n",
    "The GLM for the Gaussian distribution with natural parameter $\\eta$ being the mean of the Gaussian gives us ordinary linear regression.\n",
    "\n",
    "The Bernoulli distribution with parameter $\\phi$ can be written as an exponential distribution\n",
    "with natural parmeter $\\eta = \\log \\frac{\\phi}{1-\\phi}$. The GLM for this distribution is logistic regression.\n",
    "\n",
    "When we write the multinomial distribution with paremeters $\\phi_i > 0$ for classes $i \\in 1..K$ with the constraint that\n",
    "$$\\sum_{i=1}^{K} \\phi_i = 1$$ as a member of the exponential family,\n",
    "the resulting GLM is called *multinomial logistic regression*. The parameters $\\phi_1, \\ldots, \\phi_K$ are written\n",
    "in terms of $\\theta$ as\n",
    "$$\\phi_i = p(y = i \\mid \\mathbf{x}; \\theta) = \\frac{e^{\\theta^\\top_i \\mathbf{x}}}{\\sum_{j=1}^{K}e^{\\theta^\\top_j \\mathbf{x}}}. $$"
   ]
  },
  {
   "cell_type": "markdown",
   "metadata": {},
   "source": [
    "## Optimizing a Multinomial Regression Model\n",
    "\n",
    "In multinomial regression, we have\n",
    "\n",
    "1. Data are pairs $\\mathbf{x}^{(i)}, y^{(i)}$ with $\\mathbf{x}^{(i)} \\in \\mathbb{R}^n$ and\n",
    "   $y \\in 1..K$.\n",
    "   \n",
    "2. The hypothesis is a vector-valued function\n",
    "$$\\mathbf{h}_\\theta(\\mathbf{x}) = \\begin{bmatrix} p(y = 1 \\mid \\mathbf{x} ; \\theta) \\\\\n",
    "                                         p(y = 2 \\mid \\mathbf{x} ; \\theta) \\\\\n",
    "                                         \\vdots \\\\\n",
    "                                         p(y = K \\mid \\mathbf{x} ; \\theta) \\end{bmatrix},$$\n",
    "    where $$p(y = i \\mid \\mathbf{x}) = \\phi_i = p(y = i \\mid \\mathbf{x}; \\theta) = \\frac{e^{\\theta^\\top_i \\mathbf{x}}}{\\sum_{j=1}^{K}e^{\\theta^\\top_j \\mathbf{x}}}. $$\n",
    "\n",
    "We need a cost function and a way to minimize that cost function. As usual, we try to find the parameters maximizing the likelihood or log likelihood function, or equivalently, minimizing the negative log likelihood function:\n",
    "\n",
    "$$\\theta^* = \\text{argmax}_\\theta {\\cal L}(\\theta) =\n",
    "             \\text{argmax}_\\theta \\ell(\\theta) =\n",
    "             \\text{argmin}_\\theta J(\\theta),$$\n",
    "where\n",
    "$$\\begin{eqnarray}\n",
    "   J(\\theta) & = & - \\ell(\\theta) \\\\\n",
    "   & = & - \\sum_{i=1}^m \\log p(y^{(i)} \\mid \\textbf{x}^{(i)} ; \\theta).\n",
    "   \\end{eqnarray}$$\n",
    "\n",
    "Now that we know what is $J(\\theta)$, let's try to find its minimimum by taking the derivatives with respect to an arbitrary parameter $\\theta_{kl}$, the $l$-th element of the parameter vector $\\theta_k$ for class $k$. Before we start, let's define a variable $a_k$ as the linear activation for class $k$ in the softmax function:\n",
    "$$ a_k = \\theta_k^\\top \\mathbf{x}^{(i)}, $$\n",
    "and rewrite the softmax more conveniently as\n",
    "$$ \\phi_k = \\frac{e^{a_k}}{\\sum_{j=1}^K e^{a_j}}. $$\n",
    "That makes it a little easier to compute the gradient:\n",
    "$$\\begin{eqnarray}\n",
    "   \\frac{\\partial J}{\\partial \\theta_{kl}} & = & - \\sum_{i=1}^m \\frac{1}{\\phi_{y^{(i)}}} \\frac{\\partial \\phi_{y^{(i)}}}{\\partial \\theta_{kl}}. \\\\\n",
    "   \\end{eqnarray}$$\n",
    "Using the chain rule, we have\n",
    "$$\\frac{\\partial \\phi_{y^{(i)}}}{\\partial \\theta_{kl}} = \\sum_{j=1}^K \\frac{\\partial \\phi_{y^{(i)}}}{\\partial a_j} \\frac{\\partial a_j}{\\partial \\theta_{kl}}$$\n",
    "The second factor is easy:\n",
    "$$ \\frac{\\partial a_j}{\\partial \\theta_{kl}} = \\delta(k=j)x^{(i)}_l. $$\n",
    "For the first factor, we have\n",
    "$$\\begin{eqnarray}\n",
    "\\frac{\\partial \\phi_{y^{(i)}}}{\\partial a_j}\n",
    "& = & \\frac{ \\left[ \\delta(y^{(i)}=j)e^{a_j} \\sum_{c=1}^K e^{a_c} \\right] - e^{a_j} e^{a_j} }{\\left[ \\sum_{c=1}^K e^{a_c} \\right]^2} \\\\\n",
    "& = & \\delta(y^{(i)}=j) \\phi_j - \\phi_j^2\n",
    "\\end{eqnarray}$$\n",
    "\n",
    "Substituting what we've derived into the definition above, we obtain\n",
    "$$ \\frac{\\partial J}{\\theta_{kl}} = - \\sum_{i=1}^m \\sum_{j=1}^K (\\delta(y^{(i)}=j) - \\phi_j) \\frac{\\partial a_j}{\\partial \\theta_{kl}}. $$\n",
    "\n",
    "There are two ways to do the calculation.\n",
    "In deep neural networks with multinomial outputs, we want to first calculate the $\\frac{\\partial J}{\\partial a_j}$ terms then use them to calculate $\\frac{\\partial J}{\\partial \\theta_{kl}}$.\n",
    "\n",
    "However, if we only have the \"single layer\" model described up till now, we note\n",
    "that\n",
    "$$\\frac{\\partial a_j}{\\partial \\theta_{kl}} = \\delta(j=k) x^{(i)}_l,$$\n",
    "so we can simplify as follows:\n",
    "$$\\begin{eqnarray}\n",
    "  \\frac{\\partial J}{\\theta_{kl}} & = & - \\sum_{i=1}^m \\sum_{j=1}^K (\\delta(y^{(i)}=j) - \\phi_j) \\frac{\\partial a_j}{\\partial \\theta_{kl}} \\\\\n",
    "  & = & - \\sum_{i=1}^m \\sum_{j=1}^K (\\delta(y^{(i)}=j) - \\phi_j) \\delta(j=k) x^{(i)}_l \\\\\n",
    "  & = & - \\sum_{i=1}^m (\\delta(y^{(i)}=k) - \\phi_k) x^{(i)}_l \\\\\n",
    "  \\end{eqnarray}$$"
   ]
  },
  {
   "cell_type": "markdown",
   "metadata": {},
   "source": [
    "## Put It Together\n",
    "\n",
    "OK! Now we have all 4 criteria for our multinomial regression model:\n",
    "\n",
    "1. Data are pairs $\\mathbf{x}^{(i)}, y^{(i)}$ with $\\mathbf{x}^{(i)} \\in \\mathbb{R}^n$ and\n",
    "   $y \\in 1..K$.\n",
    "   \n",
    "2. The hypothesis is a vector-valued function\n",
    "$$\\mathbf{h}_\\theta(\\mathbf{x}) = \\begin{bmatrix} p(y = 1 \\mid \\mathbf{x} ; \\theta) \\\\\n",
    "                                         p(y = 2 \\mid \\mathbf{x} ; \\theta) \\\\\n",
    "                                         \\vdots \\\\\n",
    "                                         p(y = K \\mid \\mathbf{x} ; \\theta) \\end{bmatrix},$$\n",
    "    where $$p(y = i \\mid \\mathbf{x}) = \\phi_i = p(y = i \\mid \\mathbf{x}; \\theta) = \\frac{e^{\\theta^\\top_i \\mathbf{x}}}{\\sum_{j=1}^{K}e^{\\theta^\\top_j \\mathbf{x}}}. $$\n",
    "    \n",
    "3. The cost function is\n",
    "   $$J(\\theta) = - \\sum_{i=1}^m \\log p(y^{(i)} \\mid \\textbf{x}^{(i)})$$\n",
    "   \n",
    "4. The optimization algorithm is gradient descent on $J(\\theta)$ with the update rule\n",
    "   $$\\theta_{kl}^{(n+1)} \\leftarrow \\theta_{kl}^{(n)} - \\alpha \\sum_{i=1}^m (\\delta(y^{(i)}=k) - \\phi_k) x^{(i)}_l.$$\n"
   ]
  },
  {
   "cell_type": "markdown",
   "metadata": {},
   "source": [
    "## Multinomial Regression Example\n",
    "\n",
    "The following example of multinomial logistic regression is from [Kaggle](https://www.kaggle.com/saksham219/softmax-regression-for-iris-classification).\n",
    "\n",
    "The data set is the famous [Iris dataset from the UCI machine learning repository](https://archive.ics.uci.edu/ml/datasets/iris).\n",
    "\n",
    "The data contain 50 samples from each of three classes. Each class refers to a particular species of the iris plant. \n",
    "The data include four independent variables:\n",
    "1. Sepal length in cm\n",
    "2. Sepal width in cm\n",
    "3. Petal length in cm\n",
    "4. Petal width in cm\n",
    "\n",
    "The target takes on one of three classes:\n",
    "1. Iris Setosa\n",
    "2. Iris Versicolour\n",
    "3. Iris Virginica\n",
    "   \n",
    "To predict the target value, we use multinomial logistic regression for $k=3$ classes i.e. $y \\in \\{ 1, 2, 3 \\}$. \n",
    "\n",
    "Given $\\mathbf{x}$, we would like to predict a probability distribution over the\n",
    "three outcomes for $y$, i.e., $\\phi_1 = p(y=1 \\mid \\mathbf{x})$, $\\phi_2 = p(y=2 \\mid \\mathbf{x})$, and $\\phi_3 = p(y=3 \\mid \\mathbf{x})$.\n"
   ]
  },
  {
   "cell_type": "code",
   "execution_count": 2,
   "metadata": {},
   "outputs": [],
   "source": [
    "# importing libraries\n",
    "import numpy as np\n",
    "import pandas as pd \n",
    "import random\n",
    "import math"
   ]
  },
  {
   "cell_type": "markdown",
   "metadata": {},
   "source": [
    "The `phi` function returns $\\phi_i$ for input patterns $\\mathtt{X}$ and parameters $\\theta$."
   ]
  },
  {
   "cell_type": "code",
   "execution_count": 3,
   "metadata": {},
   "outputs": [],
   "source": [
    "def phi(i, theta, X, num_class):\n",
    "    \"\"\"\n",
    "    Here is how to make documentation for your function show up in intellisense.\n",
    "    Explanation you put here will be shown when you use it.\n",
    "    \n",
    "    To get intellisense in your Jupyter notebook:\n",
    "        - Press 'TAB' after typing a dot (.) to see methods and attributes\n",
    "        - Press 'Shift+TAB' after typing a function name to see its documentation\n",
    "\n",
    "    The `phi` function returns phi_i = h_theta(x) for input patterns X and parameters theta.\n",
    "    \n",
    "    Inputs:\n",
    "        i=index of phi\n",
    "        \n",
    "        X=input dataset\n",
    "        \n",
    "        theta=parameters\n",
    "\n",
    "    Returns:\n",
    "        phi_i\n",
    "    \"\"\"\n",
    "    mat_theta = np.matrix(theta[i])\n",
    "    mat_x = np.matrix(X)\n",
    "    num = math.exp(np.dot(mat_theta, mat_x.T))\n",
    "    den = 0\n",
    "    for j in range(0,num_class):\n",
    "        mat_theta_j = np.matrix(theta[j])\n",
    "        den = den + math.exp(np.dot(mat_theta_j, mat_x.T))\n",
    "    phi_i = num / den\n",
    "    return phi_i"
   ]
  },
  {
   "attachments": {
    "lab4-01.png": {
     "image/png": "[encoded data removed]"
    }
   },
   "cell_type": "markdown",
   "metadata": {
    "deletable": false,
    "editable": false,
    "nbgrader": {
     "cell_type": "markdown",
     "checksum": "7bbfb7d7db673b01e26f88fec69cd486",
     "grade": false,
     "grade_id": "cell-f6c98aabf4060a6e",
     "locked": true,
     "schema_version": 3,
     "solution": false,
     "task": false
    }
   },
   "source": [
    "**Tips for using intellisense: Shift+TAB**\n",
    "\n",
    "![lab4-01.png](attachment:lab4-01.png)"
   ]
  },
  {
   "cell_type": "markdown",
   "metadata": {},
   "source": [
    "The `grad_cost` function gives the gradient of the cost for data $\\mathtt{X}, \\mathbf{y}$ for class $j\\in 1..k$."
   ]
  },
  {
   "cell_type": "code",
   "execution_count": 4,
   "metadata": {},
   "outputs": [],
   "source": [
    "def indicator(i, j):\n",
    "    '''\n",
    "    Check whether i is equal to j\n",
    "    \n",
    "    Return:\n",
    "        1 when i=j, otherwise 0\n",
    "    '''\n",
    "    if i == j: return 1\n",
    "    else: return 0\n",
    "\n",
    "\n",
    "def grad_cost(X, y, j, theta, num_class):\n",
    "    '''\n",
    "    Compute the gradient of the cost function for data X, y for parameters of\n",
    "    output for class j in 1..k\n",
    "    '''\n",
    "    m, n = X.shape\n",
    "    sum = np.array([0 for i in range(0,n)])\n",
    "    for i in range(0, m):\n",
    "        p = indicator(y[i], j) - phi(j, theta, X.loc[i], num_class)\n",
    "        sum = sum + (X.loc[i] * p)\n",
    "    grad = -sum / m\n",
    "    return grad\n",
    "\n",
    "def gradient_descent(X, y, theta, alpha, iters, num_class):\n",
    "    '''\n",
    "    Perform iters iterations of gradient descent: theta_new = theta_old - alpha * cost\n",
    "    '''\n",
    "    n = X.shape[1]\n",
    "    for iter in range(iters):\n",
    "        dtheta = np.zeros((num_class, n))\n",
    "        for j in range(0, num_class):\n",
    "            dtheta[j,:] = grad_cost(X, y, j, theta, num_class)\n",
    "        theta = theta - alpha * dtheta\n",
    "    return theta\n",
    "\n",
    "def h(X, theta, num_class):\n",
    "    '''\n",
    "    Hypothesis function: h_theta(X) = theta * X\n",
    "    '''\n",
    "    X = np.matrix(X)\n",
    "    h_matrix = np.empty((num_class,1))\n",
    "    den = 0\n",
    "    for j in range(0, num_class):\n",
    "        den = den + math.exp(np.dot(theta[j], X.T))\n",
    "    for i in range(0,num_class):\n",
    "        h_matrix[i] = math.exp(np.dot(theta[i], X.T))\n",
    "    h_matrix = h_matrix / den\n",
    "    return h_matrix"
   ]
  },
  {
   "cell_type": "markdown",
   "metadata": {
    "deletable": false,
    "editable": false,
    "nbgrader": {
     "cell_type": "markdown",
     "checksum": "ae6bc59fd16f769612e9610237a581c7",
     "grade": false,
     "grade_id": "cell-7ef5fafee187b7b0",
     "locked": true,
     "schema_version": 3,
     "solution": false,
     "task": false
    }
   },
   "source": [
    "## Exercise 1.1 (5 points)\n",
    "\n",
    "Create a function to load **data** from **Iris.csv** using the Pandas library and extract y from the data.\n",
    "\n",
    "You can use [the Pandas 10 minute guide](https://pandas.pydata.org/pandas-docs/stable/user_guide/10min.html) to learn how to use pandas."
   ]
  },
  {
   "cell_type": "code",
   "execution_count": 5,
   "metadata": {
    "deletable": false,
    "nbgrader": {
     "cell_type": "code",
     "checksum": "628cb1c0a7d70ab1055c7b3517979f8b",
     "grade": false,
     "grade_id": "cell-d063fd66918f3b47",
     "locked": false,
     "schema_version": 3,
     "solution": true,
     "task": false
    }
   },
   "outputs": [],
   "source": [
    "def load_data(file_name, drop_label, y_label, is_print=False):\n",
    "    # 1. Load csv file\n",
    "    data = pd.read_csv(file_name)\n",
    "    if is_print:\n",
    "        print(data.head())\n",
    "    # 2. remove 'Id' column from data\n",
    "    if drop_label is not None:\n",
    "        data = data.drop([drop_label],axis=1)\n",
    "        if is_print:\n",
    "            print(data.head())\n",
    "    # 3. Extract y_label column as y from data\n",
    "    y = data[y_label]\n",
    "    # 4. get index of y-column\n",
    "    y_index = data.columns.get_loc(y_label)\n",
    "    # 5. Extrack X features from data\n",
    "    X = data.drop([y_label],axis=1)\n",
    "    # YOUR CODE HERE\n",
    "    #raise NotImplementedError()\n",
    "    return X, y"
   ]
  },
  {
   "cell_type": "code",
   "execution_count": 6,
   "metadata": {
    "deletable": false,
    "editable": false,
    "nbgrader": {
     "cell_type": "code",
     "checksum": "e754d7fcc097ad58a8f5cb616fec5605",
     "grade": true,
     "grade_id": "cell-7b5c0f18770fbccb",
     "locked": true,
     "points": 5,
     "schema_version": 3,
     "solution": false,
     "task": false
    }
   },
   "outputs": [
    {
     "name": "stdout",
     "output_type": "stream",
     "text": [
      "   Id  SepalLengthCm  SepalWidthCm  PetalLengthCm  PetalWidthCm      Species\n",
      "0   1            5.1           3.5            1.4           0.2  Iris-setosa\n",
      "1   2            4.9           3.0            1.4           0.2  Iris-setosa\n",
      "2   3            4.7           3.2            1.3           0.2  Iris-setosa\n",
      "3   4            4.6           3.1            1.5           0.2  Iris-setosa\n",
      "4   5            5.0           3.6            1.4           0.2  Iris-setosa\n",
      "   SepalLengthCm  SepalWidthCm  PetalLengthCm  PetalWidthCm      Species\n",
      "0            5.1           3.5            1.4           0.2  Iris-setosa\n",
      "1            4.9           3.0            1.4           0.2  Iris-setosa\n",
      "2            4.7           3.2            1.3           0.2  Iris-setosa\n",
      "3            4.6           3.1            1.5           0.2  Iris-setosa\n",
      "4            5.0           3.6            1.4           0.2  Iris-setosa\n",
      "   SepalLengthCm  SepalWidthCm  PetalLengthCm  PetalWidthCm\n",
      "0            5.1           3.5            1.4           0.2\n",
      "1            4.9           3.0            1.4           0.2\n",
      "2            4.7           3.2            1.3           0.2\n",
      "3            4.6           3.1            1.5           0.2\n",
      "4            5.0           3.6            1.4           0.2\n",
      "0    Iris-setosa\n",
      "1    Iris-setosa\n",
      "2    Iris-setosa\n",
      "3    Iris-setosa\n",
      "4    Iris-setosa\n",
      "Name: Species, dtype: object\n",
      "success!\n"
     ]
    }
   ],
   "source": [
    "X, y = load_data('Iris.csv', 'Id', 'Species', True)\n",
    "print(X.head())\n",
    "print(y[:5])\n",
    "\n",
    "# Test function: Do not remove\n",
    "# tips: this is how to create dataset using pandas\n",
    "d_ex = {'ID':     [  1,   2,   3,    4,    5,    6,    7],\n",
    "        'Grade':  [3.5, 2.5, 3.0, 3.75, 2.83, 3.95, 2.68],\n",
    "        'Type':   ['A', 'B', 'C',  'A',  'C',  'A',  'B']\n",
    "        }\n",
    "df = pd.DataFrame (d_ex, columns = ['ID','Grade', 'Type'])\n",
    "df.to_csv('out.csv', index=False)\n",
    "\n",
    "Xtest, ytest = load_data('out.csv', 'ID', 'Type')\n",
    "assert len(Xtest.columns) == 1, 'number of X_columns incorrect (1)'\n",
    "assert ytest.name == 'Type', 'Extract y_column is incorrect (1)'\n",
    "assert ytest.shape == (7,), 'number of y is incorrect (1)'\n",
    "assert 'Grade' in Xtest.columns, 'Incorrect columns in X (1)'\n",
    "Xtest, ytest = load_data('out.csv', None, 'Type')\n",
    "assert len(Xtest.columns) == 2, 'number of X_columns incorrect (2)'\n",
    "assert ytest.name == 'Type', 'Extract y_column is incorrect (2)'\n",
    "assert ytest.shape == (7,), 'number of y is incorrect (2)'\n",
    "assert 'Grade' in Xtest.columns and 'ID' in Xtest.columns, 'Incorrect columns in X (2)'\n",
    "import os\n",
    "os.remove('out.csv')\n",
    "\n",
    "assert len(X.columns) == 4, 'number of X_columns incorrect (3)'\n",
    "assert 'SepalWidthCm' in X.columns and 'Id' not in X.columns and 'Species' not in X.columns, 'Incorrect columns in X (3)'\n",
    "assert y.name == 'Species', 'Extract y_column is incorrect (3)'\n",
    "assert y.shape == (150,), 'number of y is incorrect (3)'\n",
    "\n",
    "print(\"success!\")\n",
    "# End Test function"
   ]
  },
  {
   "cell_type": "markdown",
   "metadata": {
    "deletable": false,
    "editable": false,
    "nbgrader": {
     "cell_type": "markdown",
     "checksum": "a30e2254d1c1f2935402bbb25f7cbf8c",
     "grade": false,
     "grade_id": "cell-2549563cd9338d95",
     "locked": true,
     "schema_version": 3,
     "solution": false,
     "task": false
    }
   },
   "source": [
    "**Expected result**: \\\n",
    "   SepalLengthCm  SepalWidthCm  PetalLengthCm  PetalWidthCm \\\n",
    "0            5.1           3.5            1.4           0.2\\\n",
    "1            4.9           3.0            1.4           0.2\\\n",
    "2            4.7           3.2            1.3           0.2\\\n",
    "3            4.6           3.1            1.5           0.2\\\n",
    "4            5.0           3.6            1.4           0.2\\\n",
    "0    Iris-setosa\\\n",
    "1    Iris-setosa\\\n",
    "2    Iris-setosa\\\n",
    "3    Iris-setosa\\\n",
    "4    Iris-setosa\\\n",
    "Name: Species, dtype: object"
   ]
  },
  {
   "cell_type": "markdown",
   "metadata": {
    "deletable": false,
    "editable": false,
    "nbgrader": {
     "cell_type": "markdown",
     "checksum": "1bce059019c7763d77c2f095596f67ec",
     "grade": false,
     "grade_id": "cell-507051f801249765",
     "locked": true,
     "schema_version": 3,
     "solution": false,
     "task": false
    }
   },
   "source": [
    "## Exercise 1.2 (10 points)\n",
    "\n",
    "Partition data into training and test sets\n",
    "- No need to use random.seed function!\n",
    "- Ensure that the train set is 70% and the test set is 30% of the data.\n",
    "- Encode the labels in the y attribute to be integers in the range 0..k-1.\n",
    "\n",
    "<details>\n",
    "    <summary><font size=\"3\" color=\"green\"><b>Hint:</b></font></summary>\n",
    "    You can use the <tt>partition</tt> function from lab02 if you like\n",
    "    <p></p>\n",
    "    <a href=\"https://pandas.pydata.org/pandas-docs/stable/reference/api/pandas.DataFrame.iloc.html\">panda.iloc</a> must be used to extract data from an index list\n",
    "    <p></p>\n",
    "    <a href=\"https://pandas.pydata.org/docs/reference/api/pandas.unique.html\">panda.unique</a> will give you the set of unique labels\n",
    "</details>"
   ]
  },
  {
   "cell_type": "code",
   "execution_count": 7,
   "metadata": {
    "deletable": false,
    "nbgrader": {
     "cell_type": "code",
     "checksum": "4b840baf518302ae39dee4e9325d912d",
     "grade": false,
     "grade_id": "cell-eb7e4dd82f395754",
     "locked": false,
     "schema_version": 3,
     "solution": true,
     "task": false
    }
   },
   "outputs": [],
   "source": [
    "def resetter(X_train):\n",
    "    resetted_X = X_train.reset_index()\n",
    "    resetted_X = resetted_X.drop(['index'],axis = 1)\n",
    "    return resetted_X\n",
    "\n",
    "def partition(X, y, percent_train):\n",
    "    # 1. create index list\n",
    "    idx = np.arange(0,y.shape[0])\n",
    "    # 2. shuffle index\n",
    "    #random.seed(1412)\n",
    "    random.shuffle(idx)\n",
    "    \n",
    "    # 3. Create train/test index\n",
    "    m = X.shape[0]\n",
    "    a_train = idx[0:round(percent_train*len(X))]\n",
    "    a_test = idx[len(a_train):] \n",
    "    \n",
    "    # 4. Separate X_Train, y_train, X_test, y_test\n",
    "    X_train = X.iloc[a_train]\n",
    "    y_train = y.iloc[a_train]\n",
    "    X_test = X.iloc[a_test]    \n",
    "    y_test = y.iloc[a_test]\n",
    "    \n",
    "    # 5. Get y_labels_name from y using pandas.unique function\n",
    "    \n",
    "    y_labels_name = pd.unique(y)    \n",
    "    y_labels_new = []\n",
    "    # 6. Change y_labels_name into string number and put into y_labels_new\n",
    "    i = 0\n",
    "    for l in y_labels_name:\n",
    "        print(l)\n",
    "        y_labels_new.append(i)\n",
    "        i = i + 1\n",
    "    \n",
    "    # 7. Drop shuffle index columns\n",
    "    #     - pandas.reset_index() and pandas.drop(...) might be help\n",
    "    \n",
    "    X_train = resetter(X_train)\n",
    "    y_train = pd.Series(resetter(y_train).values.reshape(-1,))\n",
    "    X_test= resetter(X_test)\n",
    "    y_test = pd.Series(resetter(y_test).values.reshape(-1,))\n",
    "    # YOUR CODE HERE\n",
    "    #raise NotImplementedError()\n",
    "    \n",
    "    for i in y_labels_new:\n",
    "    \n",
    "        y_train = y_train.replace(y_labels_name[i],i)\n",
    "        y_test = y_test.replace(y_labels_name[i],i)\n",
    "    \n",
    "    return idx, X_train, y_train, X_test, y_test, y_labels_name, y_labels_new"
   ]
  },
  {
   "cell_type": "code",
   "execution_count": 8,
   "metadata": {
    "deletable": false,
    "editable": false,
    "nbgrader": {
     "cell_type": "code",
     "checksum": "d6dd3918ae4421e104c8fe2687322be6",
     "grade": true,
     "grade_id": "cell-57199b8ae505edd8",
     "locked": true,
     "points": 10,
     "schema_version": 3,
     "solution": false,
     "task": false
    }
   },
   "outputs": [
    {
     "name": "stdout",
     "output_type": "stream",
     "text": [
      "Iris-setosa\n",
      "Iris-versicolor\n",
      "Iris-virginica\n",
      "X_train.shape (105, 4)\n",
      "X_test.shape (45, 4)\n",
      "y_train.shape (105,)\n",
      "y_test.shape (45,)\n",
      "y_labels_name:  ['Iris-setosa' 'Iris-versicolor' 'Iris-virginica']\n",
      "y_labels_new:  [0, 1, 2]\n",
      "   SepalLengthCm  SepalWidthCm  PetalLengthCm  PetalWidthCm\n",
      "0            6.1           3.0            4.6           1.4\n",
      "1            7.7           3.0            6.1           2.3\n",
      "2            5.5           2.4            3.7           1.0\n",
      "3            5.6           2.5            3.9           1.1\n",
      "4            6.5           3.2            5.1           2.0\n",
      "0    1\n",
      "1    2\n",
      "2    1\n",
      "3    1\n",
      "4    2\n",
      "dtype: int64\n",
      "success!\n"
     ]
    }
   ],
   "source": [
    "percent_train = 0.7\n",
    "idx, X_train, y_train, X_test, y_test, y_labels_name, y_labels_new = partition(X, y, percent_train)\n",
    "print('X_train.shape', X_train.shape)\n",
    "print('X_test.shape', X_test.shape)\n",
    "print('y_train.shape', y_train.shape)\n",
    "print('y_test.shape', y_test.shape)\n",
    "print('y_labels_name: ', y_labels_name)\n",
    "print('y_labels_new: ', y_labels_new)\n",
    "print(X_train.head())\n",
    "print(y_train.head())\n",
    "\n",
    "# Test function: Do not remove\n",
    "assert len(y_labels_name) == 3 and len(y_labels_new) == 3, 'number of y uniques are incorrect'\n",
    "assert X_train.shape == (105, 4), 'Size of X_train is incorrect'\n",
    "assert X_test.shape == (45, 4), 'Size of x_test is incorrect'\n",
    "assert y_train.shape == (105, ), 'Size of y_train is incorrect'\n",
    "assert y_test.shape == (45, ), 'Size of y_test is incorrect'\n",
    "assert 'Iris-setosa' in y_labels_name and 'Iris-virginica' in y_labels_name and \\\n",
    "        'Iris-versicolor' in y_labels_name, 'y unique data incorrect'\n",
    "assert min(y_labels_new) == 0 and max(y_labels_new) < 3, 'label indices are incorrect'\n",
    "\n",
    "print(\"success!\")\n",
    "# End Test function"
   ]
  },
  {
   "cell_type": "markdown",
   "metadata": {
    "deletable": false,
    "editable": false,
    "nbgrader": {
     "cell_type": "markdown",
     "checksum": "b9470594d08018205e3db8c74957f49d",
     "grade": false,
     "grade_id": "cell-ce816c5bfbade0a9",
     "locked": true,
     "schema_version": 3,
     "solution": false,
     "task": false
    }
   },
   "source": [
    "**Expected result**: <span style=\"color:blue\">(*or similar*)</span>\\\n",
    "X_train.shape (105, 4)\\\n",
    "X_test.shape (45, 4)\\\n",
    "y_train.shape (105,)\\\n",
    "y_test.shape (45,)\\\n",
    "y_labels_name:  ['Iris-setosa' 'Iris-versicolor' 'Iris-virginica'] \\\n",
    "y_labels_new:  [0, 1, 2]\n",
    "\n",
    "SepalLengthCm  SepalWidthCm  PetalLengthCm  PetalWidthCm\\\n",
    "0            6.4           2.8            5.6           2.2\\\n",
    "1            6.7           3.3            5.7           2.1\\\n",
    "2            4.6           3.4            1.4           0.3\\\n",
    "3            5.1           3.8            1.5           0.3\\\n",
    "4            5.0           2.3            3.3           1.0\\\n",
    "   Species\\\n",
    "0        2\\\n",
    "1        2\\\n",
    "2        0\\\n",
    "3        0\\\n",
    "4        1"
   ]
  },
  {
   "cell_type": "markdown",
   "metadata": {},
   "source": [
    "## Exercise 1.3 (5 points)\n",
    "\n",
    "Train your classification model using the `gradient_descent` function already provided.\n",
    "You might also play around with the gradient descent function to see if you can speed it up!"
   ]
  },
  {
   "cell_type": "code",
   "execution_count": 9,
   "metadata": {
    "deletable": false,
    "nbgrader": {
     "cell_type": "code",
     "checksum": "ad783130ff0cfdf82d485d403ec273e9",
     "grade": false,
     "grade_id": "cell-45133326ee8336fd",
     "locked": false,
     "schema_version": 3,
     "solution": true,
     "task": false
    }
   },
   "outputs": [],
   "source": [
    "# num_class is the number of unique labels\n",
    "num_class = len(y_labels_name)\n",
    "\n",
    "if (X_train.shape[1] == X.shape[1]): \n",
    "    X_train.insert(0, \"intercept\", 1)\n",
    "\n",
    "# Reset m and n for training data\n",
    "r, c = X_train.shape\n",
    "\n",
    "# Initialize theta for each class\n",
    "theta_initial = np.ones((num_class, c))\n",
    "\n",
    "alpha = .05\n",
    "iterations = 200\n",
    "\n",
    "theta = gradient_descent(X_train, y_train, theta_initial, alpha, iterations, num_class)\n",
    "# Logistic regression\n",
    "# YOUR CODE HERE\n",
    "#raise NotImplementedError()"
   ]
  },
  {
   "cell_type": "code",
   "execution_count": 10,
   "metadata": {
    "deletable": false,
    "editable": false,
    "nbgrader": {
     "cell_type": "code",
     "checksum": "292c4d2939100e64e43e00eaa1103c99",
     "grade": true,
     "grade_id": "cell-4df1fd593dc59103",
     "locked": true,
     "points": 5,
     "schema_version": 3,
     "solution": false,
     "task": false
    }
   },
   "outputs": [
    {
     "name": "stdout",
     "output_type": "stream",
     "text": [
      "[[ 1.17266964  1.31764745  1.81984318 -0.16946719  0.44175539]\n",
      " [ 1.06814243  1.14532254  0.74163347  1.20132495  0.82394868]\n",
      " [ 0.75918794  0.53703001  0.43852334  1.96814224  1.73429593]]\n",
      "(3, 5)\n",
      "success!\n"
     ]
    }
   ],
   "source": [
    "print(theta)\n",
    "print(theta.shape)\n",
    "\n",
    "# Test function: Do not remove\n",
    "assert theta.shape == (3, 5), 'Size of theta is incorrect'\n",
    "\n",
    "print(\"success!\")\n",
    "# End Test function"
   ]
  },
  {
   "cell_type": "markdown",
   "metadata": {},
   "source": [
    "**Expected result**: <span style=\"color:blue\">(*or similar*)</span>\\\n",
    "[[ 1.17632192  1.32360047  1.83204165 -0.20224445  0.44039155]\\\n",
    " [ 1.10140069  1.13537321  0.74833178  1.21907866  0.82567377]\\\n",
    " [ 0.72227738  0.54102632  0.41962657  1.98316579  1.73393467]]\\\n",
    "\\\n",
    "(3, 5)"
   ]
  },
  {
   "cell_type": "markdown",
   "metadata": {
    "deletable": false,
    "editable": false,
    "nbgrader": {
     "cell_type": "markdown",
     "checksum": "77824201280c79436622012608de3e2f",
     "grade": false,
     "grade_id": "cell-1fb529e9485db8ed",
     "locked": true,
     "schema_version": 3,
     "solution": false,
     "task": false
    }
   },
   "source": [
    "## Exercise 1.4 (5 points)\n",
    "\n",
    "Let's get your model to make predictions on the test data."
   ]
  },
  {
   "cell_type": "code",
   "execution_count": 11,
   "metadata": {
    "deletable": false,
    "nbgrader": {
     "cell_type": "code",
     "checksum": "348bc255367b5cbda2244eac6b1e9af7",
     "grade": false,
     "grade_id": "cell-ca9bee3cf3b6f596",
     "locked": false,
     "schema_version": 3,
     "solution": true,
     "task": false
    }
   },
   "outputs": [],
   "source": [
    "# Prediction on test data \n",
    "\n",
    "if (X_test.shape[1] == X.shape[1]): \n",
    "    X_test.insert(0, \"intercept\", 1)\n",
    "\n",
    "# Reset m and n for test data\n",
    "r,c = X_test.shape\n",
    "\n",
    "y_pred = []\n",
    "for index,row in X_test.iterrows(): # get a row of X_test data\n",
    "    # calculate y_hat using hypothesis function\n",
    "    y_hat = h(row, theta, num_class)\n",
    "    # find the index (integer value) of maximum value in y_hat and input back to prediction\n",
    "    prediction = int(np.argmax(y_hat))\n",
    "    # YOUR CODE HERE\n",
    "    #raise NotImplementedError()\n",
    "    # collect the result\n",
    "    y_pred.append(prediction)"
   ]
  },
  {
   "cell_type": "code",
   "execution_count": 12,
   "metadata": {
    "deletable": false,
    "editable": false,
    "nbgrader": {
     "cell_type": "code",
     "checksum": "d842201bd3b0bc078ed88a2ad3be3ba5",
     "grade": true,
     "grade_id": "cell-eb837dfbea00f88e",
     "locked": true,
     "points": 5,
     "schema_version": 3,
     "solution": false,
     "task": false
    }
   },
   "outputs": [
    {
     "name": "stdout",
     "output_type": "stream",
     "text": [
      "45\n",
      "[2, 1, 0, 1, 0, 1, 0]\n",
      "<class 'int'>\n",
      "success!\n"
     ]
    }
   ],
   "source": [
    "print(len(y_pred))\n",
    "print(y_pred[:7])\n",
    "print(type(y_pred[0]))\n",
    "\n",
    "# Test function: Do not remove\n",
    "assert len(y_pred) == 45, 'Size of y_pred is incorrect'\n",
    "assert isinstance(y_pred[0], int) and isinstance(y_pred[15], int) and isinstance(y_pred[17], int), 'prediction type is incorrect'\n",
    "assert max(y_pred) < 3 and min(y_pred) >= 0, 'wrong index of y_pred'\n",
    "\n",
    "print(\"success!\")\n",
    "# End Test function"
   ]
  },
  {
   "cell_type": "markdown",
   "metadata": {
    "deletable": false,
    "editable": false,
    "nbgrader": {
     "cell_type": "markdown",
     "checksum": "f16868d1301850a213dcca08f77f9d99",
     "grade": false,
     "grade_id": "cell-e6c4ecd254dffa16",
     "locked": true,
     "schema_version": 3,
     "solution": false,
     "task": false
    }
   },
   "source": [
    "**Expected result**: <span style=\"color:blue\">(*or similar*)</span>\\\n",
    "45 \\\n",
    "[2, 0, 2, 0, 0, 0, 2] \\\n",
    "<class 'int'>"
   ]
  },
  {
   "cell_type": "markdown",
   "metadata": {},
   "source": [
    "## Exercise 1.5 (5 points)\n",
    "\n",
    "Estimate accuracy of model on test data\n",
    "\n",
    "$$\\text{accuracy} = \\frac{\\text{number of correct test predictions}}{m_{\\text{test}}}$$"
   ]
  },
  {
   "cell_type": "code",
   "execution_count": 13,
   "metadata": {
    "deletable": false,
    "nbgrader": {
     "cell_type": "code",
     "checksum": "5e98a0ca8a59bcc91e4e98134994357c",
     "grade": false,
     "grade_id": "cell-e55c1db91fb8e2c2",
     "locked": false,
     "schema_version": 3,
     "solution": true,
     "task": false
    }
   },
   "outputs": [],
   "source": [
    "def calc_accuracy(y_test, y_pred):\n",
    "    correct = np.count_nonzero([y_test == y_pred])\n",
    "    accuracy = correct/y_test.shape[0]\n",
    "    # YOUR CODE HERE\n",
    "    #raise NotImplementedError()\n",
    "    return accuracy"
   ]
  },
  {
   "cell_type": "code",
   "execution_count": 14,
   "metadata": {
    "deletable": false,
    "editable": false,
    "nbgrader": {
     "cell_type": "code",
     "checksum": "9e60eaa0a604ec38ec10b318709f16d2",
     "grade": true,
     "grade_id": "cell-3c242c8ceb36bdde",
     "locked": true,
     "points": 5,
     "schema_version": 3,
     "solution": false,
     "task": false
    }
   },
   "outputs": [
    {
     "name": "stdout",
     "output_type": "stream",
     "text": [
      "Accuracy: 0.9333\n",
      "success!\n"
     ]
    }
   ],
   "source": [
    "accuracy = calc_accuracy(y_test, y_pred)\n",
    "print('Accuracy: %.4f' % accuracy)\n",
    "\n",
    "# Test function: Do not remove\n",
    "assert isinstance(accuracy, float), 'accuracy should be floating point'\n",
    "assert accuracy >= 0.8, 'Did you train the data?'\n",
    "\n",
    "print(\"success!\")\n",
    "# End Test function"
   ]
  },
  {
   "cell_type": "markdown",
   "metadata": {
    "deletable": false,
    "editable": false,
    "nbgrader": {
     "cell_type": "markdown",
     "checksum": "bb73f150e4d32690d39ea62b36681d0e",
     "grade": false,
     "grade_id": "cell-c6ce114f4e28eb00",
     "locked": true,
     "schema_version": 3,
     "solution": false,
     "task": false
    }
   },
   "source": [
    "**Expected result**: should be at least 0.8!"
   ]
  },
  {
   "cell_type": "markdown",
   "metadata": {
    "deletable": false,
    "editable": false,
    "nbgrader": {
     "cell_type": "markdown",
     "checksum": "409feaa976ebc15fa25dd29cb7f225de",
     "grade": false,
     "grade_id": "cell-766aea2be684caa1",
     "locked": true,
     "schema_version": 3,
     "solution": false,
     "task": false
    }
   },
   "source": [
    "## On your own in lab\n",
    "\n",
    "We will do the following in lab:\n",
    "1. Write a function to obtain the cost for particular $\\mathtt{X}$, $\\mathbf{y}$, and $\\theta$.\n",
    "2. Plot the training set and test cost as training goes on and find the best value for the number of iterations and learning rate.\n",
    "3. Make 2D scatter plots showing the predicted and actual class of each item in the training set, plotting two features at a time.\n",
    "   Comment on the cause of the errors you observe. If you obtain perfect test set accuracy, re-run the train/test split\n",
    "   and rerun the optimization until you observe some mistaken predictions on the test set.\n"
   ]
  },
  {
   "cell_type": "markdown",
   "metadata": {
    "deletable": false,
    "editable": false,
    "nbgrader": {
     "cell_type": "markdown",
     "checksum": "ea7c241fded47855150e595f8487230e",
     "grade": false,
     "grade_id": "cell-24e9ed62d68b8af8",
     "locked": true,
     "schema_version": 3,
     "solution": false,
     "task": false
    }
   },
   "source": [
    "## Exercise 2.1 (15 points)\n",
    "\n",
    "1. Write a function to obtain the cost for particular $\\mathtt{X}$, $\\mathbf{y}$, and $\\theta$.\n",
    "   Name your function `my_J()` and implement\n",
    "\n",
    "$$ J_j = -\\delta(y, j)\\log{\\phi_j} $$\n"
   ]
  },
  {
   "cell_type": "code",
   "execution_count": 15,
   "metadata": {},
   "outputs": [
    {
     "data": {
      "text/plain": [
       "0"
      ]
     },
     "execution_count": 15,
     "metadata": {},
     "output_type": "execute_result"
    }
   ],
   "source": [
    "indicator(1,2)"
   ]
  },
  {
   "cell_type": "code",
   "execution_count": 16,
   "metadata": {
    "deletable": false,
    "nbgrader": {
     "cell_type": "code",
     "checksum": "7bae968c2f17079d9772c6a7fc4dabde",
     "grade": false,
     "grade_id": "cell-09504f5f2f8c3576",
     "locked": false,
     "schema_version": 3,
     "solution": true,
     "task": false
    }
   },
   "outputs": [],
   "source": [
    "def my_J(theta, X, y, j, num_class):\n",
    "    #h_ = h(X, theta, num_class) \n",
    "    #m = X.shape[0]\n",
    "    #cost = - np.sum(y * np.log(h_)\n",
    "\n",
    "    cost = -(indicator(y,j) * np.log(phi(j, theta, X, num_class)))\n",
    "    \n",
    "    # YOUR CODE HERE\n",
    "    #raise NotImplementedError()\n",
    "    return cost"
   ]
  },
  {
   "cell_type": "code",
   "execution_count": 17,
   "metadata": {
    "deletable": false,
    "editable": false,
    "nbgrader": {
     "cell_type": "code",
     "checksum": "c99e4d6e2e754a96be6e7d37d9bb7149",
     "grade": true,
     "grade_id": "cell-fbcbb4e3e0175f5b",
     "locked": true,
     "points": 5,
     "schema_version": 3,
     "solution": false,
     "task": false
    }
   },
   "outputs": [
    {
     "name": "stdout",
     "output_type": "stream",
     "text": [
      "success!\n"
     ]
    }
   ],
   "source": [
    "# Test function: Do not remove\n",
    "m, n = X_train.shape\n",
    "test_theta = np.ones((3, n))  \n",
    "cost = my_J(test_theta, X_train.loc[10], y_train[10], 0, 3)\n",
    "assert isinstance(cost, float), 'cost should be floating point'\n",
    "\n",
    "print(\"success!\")\n",
    "# End Test function"
   ]
  },
  {
   "cell_type": "markdown",
   "metadata": {
    "deletable": false,
    "editable": false,
    "nbgrader": {
     "cell_type": "markdown",
     "checksum": "5c398c965785889ee0a06aeb84a0b80d",
     "grade": false,
     "grade_id": "cell-34c143689212aef1",
     "locked": true,
     "schema_version": 3,
     "solution": false,
     "task": false
    }
   },
   "source": [
    "2. Implement <code>my_grad_cost</code> using your <code>my_J</code> function"
   ]
  },
  {
   "cell_type": "code",
   "execution_count": 18,
   "metadata": {
    "deletable": false,
    "nbgrader": {
     "cell_type": "code",
     "checksum": "cd8bd33416294c869c6e5e6799e706af",
     "grade": false,
     "grade_id": "cell-4ceb8af01bd22e41",
     "locked": false,
     "schema_version": 3,
     "solution": true,
     "task": false
    }
   },
   "outputs": [],
   "source": [
    "def my_grad_cost(X, y, j, theta, num_class):\n",
    "    \n",
    "    m, n = X.shape\n",
    "    cost = 0\n",
    "    sum_ = np.array([0 for i in range(0,n)])\n",
    "    for i in range(0, m):\n",
    "        p = indicator(y[i], j) - phi(j, theta, X.loc[i], num_class)\n",
    "        c = my_J(theta, X.iloc[i], y.iloc[i], j, num_class)\n",
    "        sum_ = sum_ + (X.loc[i] * p)\n",
    "        cost = cost + c\n",
    "    \n",
    "    grad = -sum_ / m\n",
    "    # YOUR CODE HERE\n",
    "    #raise NotImplementedError()\n",
    "    return grad, cost"
   ]
  },
  {
   "cell_type": "code",
   "execution_count": 19,
   "metadata": {
    "deletable": false,
    "editable": false,
    "nbgrader": {
     "cell_type": "code",
     "checksum": "561dddd2c0890a5871cd9a93ba403271",
     "grade": true,
     "grade_id": "cell-0c59178b69fc0e79",
     "locked": true,
     "points": 5,
     "schema_version": 3,
     "solution": false,
     "task": false
    }
   },
   "outputs": [
    {
     "name": "stdout",
     "output_type": "stream",
     "text": [
      "intercept        0.009524\n",
      "SepalLengthCm    0.348254\n",
      "SepalWidthCm    -0.087937\n",
      "PetalLengthCm    0.802222\n",
      "PetalWidthCm     0.337460\n",
      "dtype: float64\n",
      "37.352817814715735\n",
      "success!\n"
     ]
    }
   ],
   "source": [
    "# Test function: Do not remove\n",
    "m, n = X_train.shape\n",
    "test_theta = np.ones((3, n))  \n",
    "grad, cost = my_grad_cost(X_train, y_train, 0, test_theta, num_class)\n",
    "print(grad)\n",
    "print(cost)\n",
    "assert isinstance(cost, float), 'cost should be floating point'\n",
    "assert isinstance(grad['intercept'], float) and \\\n",
    "        isinstance(grad['SepalLengthCm'], float) and \\\n",
    "        isinstance(grad['SepalWidthCm'], float) and \\\n",
    "        isinstance(grad['PetalLengthCm'], float) and \\\n",
    "        isinstance(grad['PetalWidthCm'], float) , 'grad should be floating point'\n",
    "print(\"success!\")\n",
    "# End Test function"
   ]
  },
  {
   "cell_type": "markdown",
   "metadata": {
    "deletable": false,
    "editable": false,
    "nbgrader": {
     "cell_type": "markdown",
     "checksum": "3a7669c774b0a3bf8c73ff1a0434fe62",
     "grade": false,
     "grade_id": "cell-97b876dfa85ff5bc",
     "locked": true,
     "schema_version": 3,
     "solution": false,
     "task": false
    }
   },
   "source": [
    "**Expect result**: <span style=\"color:blue\">(*or similar*)</span>\\\n",
    "intercept        0.009524\\\n",
    "SepalLengthCm    0.316825\\\n",
    "SepalWidthCm    -0.091429\\\n",
    "PetalLengthCm    0.780000\\\n",
    "PetalWidthCm     0.329524\\\n",
    "dtype: float64\\\n",
    "37.352817814715735"
   ]
  },
  {
   "cell_type": "markdown",
   "metadata": {
    "deletable": false,
    "editable": false,
    "nbgrader": {
     "cell_type": "markdown",
     "checksum": "3d80cb7d40135eec5790ae5a8f5af7cf",
     "grade": false,
     "grade_id": "cell-32f708e7578beca7",
     "locked": true,
     "schema_version": 3,
     "solution": false,
     "task": false
    }
   },
   "source": [
    "3. Implement <code>my_gradient_descent</code> using your <code>my_grad_cost</code> function"
   ]
  },
  {
   "cell_type": "code",
   "execution_count": 20,
   "metadata": {
    "deletable": false,
    "nbgrader": {
     "cell_type": "code",
     "checksum": "8b2a20ca1f35b23f2f6226e644a123a0",
     "grade": false,
     "grade_id": "cell-68841cb78e91028a",
     "locked": false,
     "schema_version": 3,
     "solution": true,
     "task": false
    }
   },
   "outputs": [],
   "source": [
    "def my_gradient_descent(X, y, theta, alpha, iters, num_class):        \n",
    "    cost_arr = []\n",
    "    # YOUR CODE HERE\n",
    "    n = X.shape[1]\n",
    "    for i in range(iters):\n",
    "        cost = 0\n",
    "        dtheta = np.zeros((num_class, n))\n",
    "        for j in range(0, num_class):\n",
    "            dtheta[j,:] , c = my_grad_cost(X, y, j, theta, num_class)\n",
    "            cost = cost + c\n",
    "        cost_arr.append(cost)\n",
    "        theta = theta - alpha * dtheta\n",
    "    #raise NotImplementedError()\n",
    "    return theta, cost_arr"
   ]
  },
  {
   "cell_type": "code",
   "execution_count": 21,
   "metadata": {
    "deletable": false,
    "editable": false,
    "nbgrader": {
     "cell_type": "code",
     "checksum": "5a352fdcab8656502c0f241b436d3966",
     "grade": true,
     "grade_id": "cell-8b7f6daed2ecf043",
     "locked": true,
     "points": 5,
     "schema_version": 3,
     "solution": false,
     "task": false
    }
   },
   "outputs": [
    {
     "name": "stdout",
     "output_type": "stream",
     "text": [
      "[[0.99996959 0.99836451 1.00049076 0.99606623 0.99833879]\n",
      " [0.99986116 0.99933482 0.99917102 1.00021396 1.00000344]\n",
      " [1.00016925 1.00230066 1.00033822 1.00371981 1.00165777]]\n",
      "[115.35429031015153, 115.1587013441517, 114.96853133271843, 114.78356608194824, 114.6035991877809]\n",
      "success!\n"
     ]
    }
   ],
   "source": [
    "# Test function: Do not remove\n",
    "m, n = X_train.shape\n",
    "test_theta = np.ones((3, n))  \n",
    "theta, cost = my_gradient_descent(X_train, y_train, theta_initial, 0.001, 5, 3)\n",
    "print(theta)\n",
    "print(cost)\n",
    "print(\"success!\")\n",
    "# End Test function"
   ]
  },
  {
   "cell_type": "markdown",
   "metadata": {
    "deletable": false,
    "editable": false,
    "nbgrader": {
     "cell_type": "markdown",
     "checksum": "93a06956cbd8e8cf4b2f7b32643cd4b8",
     "grade": false,
     "grade_id": "cell-44224271d398a147",
     "locked": true,
     "schema_version": 3,
     "solution": false,
     "task": false
    }
   },
   "source": [
    "**Expected result**: <span style=\"color:blue\">(*or similar*)</span>\\\n",
    "[[1.00001186 0.99618853 1.00183642 0.9889817  0.99528923]\\\n",
    " [1.00009697 1.0011823  0.99883395 1.00316763 1.00083055]\\\n",
    " [0.99987915 1.00255606 0.99929351 1.00779768 1.00386218]]\\\n",
    "[114.00099216453735, 113.89036233839263, 113.78163144339288, 113.67472269747496, 113.56956268162737]\\\n",
    "37.352817814715735"
   ]
  },
  {
   "cell_type": "markdown",
   "metadata": {
    "deletable": false,
    "editable": false,
    "nbgrader": {
     "cell_type": "markdown",
     "checksum": "ba2df6557c59fe3a224ab91188067727",
     "grade": false,
     "grade_id": "cell-8c6718d263bf7786",
     "locked": true,
     "schema_version": 3,
     "solution": false,
     "task": false
    }
   },
   "source": [
    "## Exercise 2.2 (20 points)\n",
    "\n",
    "4. Plot the training set and test cost as training goes on and find the best value for the number of iterations and learning rate.\n",
    "5. Make 2D scatter plots showing the predicted and actual class of each item in the training set, plotting two features at a time.\n",
    "   Comment on the cause of the errors you observe. If you obtain perfect test set accuracy, re-run the train/test split\n",
    "   and rerun the optimization until you observe some mistaken predictions on the test set."
   ]
  },
  {
   "cell_type": "code",
   "execution_count": 22,
   "metadata": {},
   "outputs": [],
   "source": [
    "import matplotlib.pyplot as plt"
   ]
  },
  {
   "cell_type": "code",
   "execution_count": 23,
   "metadata": {
    "deletable": false,
    "nbgrader": {
     "cell_type": "code",
     "checksum": "b4aa679efedc456225c0f84d5646aac6",
     "grade": true,
     "grade_id": "cell-5d97fd557db7438e",
     "locked": false,
     "points": 20,
     "schema_version": 3,
     "solution": true,
     "task": false
    }
   },
   "outputs": [
    {
     "data": {
      "image/png": "[encoded data removed]",
      "text/plain": [
       "<Figure size 432x288 with 1 Axes>"
      ]
     },
     "metadata": {
      "needs_background": "light"
     },
     "output_type": "display_data"
    }
   ],
   "source": [
    "theta_arr = []\n",
    "cost_arr = []\n",
    "accuracy_arr = []\n",
    "\n",
    "# design your own learning rate and num iterations\n",
    "alpha_arr = np.array([0.05, 0.06, 0.07, 0.1])\n",
    "iterations_arr = np.array([50, 51, 52, 53])\n",
    "\n",
    "def prediction(X, theta):\n",
    "    y_pred = []\n",
    "    \n",
    "    for index,row in X.iterrows(): # get a row of X_test data\n",
    "        # calculate y_hat using hypothesis function\n",
    "        y_hat = h(row, theta, num_class)\n",
    "        # find the index (integer value) of maximum value in y_hat and input back to prediction\n",
    "        result = int(np.where(y_hat == np.amax(y_hat))[0])\n",
    "        prediction = result\n",
    "\n",
    "        # collect the result\n",
    "        y_pred.append(prediction)\n",
    "    return y_pred\n",
    "\n",
    "for i in range(4):\n",
    "    theta, cost = my_gradient_descent(X_train, y_train, theta_initial, alpha_arr[i], iterations_arr[i], num_class)\n",
    "    theta_arr.append(theta)\n",
    "    cost_arr.append(cost)\n",
    "    y_pred = prediction(X_test, theta)\n",
    "    accuracy = calc_accuracy(y_test, y_pred)\n",
    "    accuracy_arr.append(accuracy)\n",
    "    \n",
    "plt.plot(cost_arr[0], label='alpha:' + str(alpha_arr[0]) + 'acc:'+ str(round(accuracy_arr[0],2)))\n",
    "plt.plot(cost_arr[1], label='alpha:' + str(alpha_arr[1]) + 'acc:'+ str(round(accuracy_arr[1],2)))\n",
    "plt.plot(cost_arr[2], label='alpha:' + str(alpha_arr[2]) + 'acc:'+ str(round(accuracy_arr[2],2)))\n",
    "plt.plot(cost_arr[3], label='alpha:' + str(alpha_arr[3]) + 'acc:'+ str(round(accuracy_arr[3],2)))\n",
    "plt.xlabel(\"Iteration\")\n",
    "plt.ylabel(\"cost\")\n",
    "plt.legend()\n",
    "plt.show()\n",
    "# YOUR CODE HERE\n",
    "#raise NotImplementedError()\n"
   ]
  },
  {
   "attachments": {
    "lab4-02.png": {
     "image/png": "[encoded data removed]"
    }
   },
   "cell_type": "markdown",
   "metadata": {
    "deletable": false,
    "editable": false,
    "nbgrader": {
     "cell_type": "markdown",
     "checksum": "0c15b26d416d2baf11b8a9f0695f9ff8",
     "grade": false,
     "grade_id": "cell-708bd0d431aeb436",
     "locked": true,
     "schema_version": 3,
     "solution": false,
     "task": false
    }
   },
   "source": [
    "**Expected result**: <span style=\"color:blue\">(*Yours doesn't have to be the same!*)</span>\n",
    "\n",
    "![lab4-02.png](attachment:lab4-02.png)"
   ]
  },
  {
   "cell_type": "code",
   "execution_count": 24,
   "metadata": {},
   "outputs": [
    {
     "name": "stdout",
     "output_type": "stream",
     "text": [
      "Accuracy is => 0.6952380952380952\n",
      "(105, 5)\n"
     ]
    },
    {
     "data": {
      "image/png": "[encoded data removed]",
      "text/plain": [
       "<Figure size 432x288 with 1 Axes>"
      ]
     },
     "metadata": {
      "needs_background": "light"
     },
     "output_type": "display_data"
    }
   ],
   "source": [
    "y_pred = prediction(X_train, theta)\n",
    "accuracy = calc_accuracy(y_train, y_pred)\n",
    "print(\"Accuracy is =>\", accuracy)\n",
    "print(X_train.shape)\n",
    "m, n = X_train.shape\n",
    "\n",
    "#list of indexes of classes of each\n",
    "X_train_i0 = [index for index in range(len(y_train)) if y_train[index] == 0]\n",
    "X_train_i1 = [index for index in range(len(y_train)) if y_train[index] == 1]\n",
    "X_train_i2 = [index for index in range(len(y_train)) if y_train[index] == 2]\n",
    "\n",
    "#list of indexes of predicted classes of each\n",
    "X_train_pred_i0 = [index for index in range(len(y_pred)) if y_pred[index] == 0]\n",
    "X_train_pred_i1 = [index for index in range(len(y_pred)) if y_pred[index] == 1]\n",
    "X_train_pred_i2 = [index for index in range(len(y_pred)) if y_pred[index] == 2]\n",
    "\n",
    "error_index = [index for index in range(len(y_train)) if y_train[index] != y_pred[index]]\n",
    "\n",
    "#Split X_train real classes      \n",
    "X_train_0 = X_train.iloc[X_train_i0, :]\n",
    "X_train_1 = X_train.iloc[X_train_i1, :]\n",
    "X_train_2 = X_train.iloc[X_train_i2, :]\n",
    "\n",
    "#Split X_train predicted class\n",
    "X_train_pred_0 = X_train.iloc[X_train_pred_i0, :]\n",
    "X_train_pred_1 = X_train.iloc[X_train_pred_i1, :]\n",
    "X_train_pred_2 = X_train.iloc[X_train_pred_i2, :]\n",
    "\n",
    "#plot\n",
    "plt.xlabel('SepalLengthCm')\n",
    "plt.ylabel('SepalWidthCm')\n",
    "plt.scatter(X_train_0['SepalLengthCm'],X_train_0['SepalWidthCm'], s=50, c='c', marker='o', label='Act C1')\n",
    "plt.scatter(X_train_1['SepalLengthCm'],X_train_1['SepalWidthCm'], s=50, c='g', marker='o', label='Act C2')\n",
    "plt.scatter(X_train_2['SepalLengthCm'],X_train_2['SepalWidthCm'], s=50, c='r', marker='o', label='Act C3')\n",
    "\n",
    "plt.scatter(X_train_pred_0['SepalLengthCm'],X_train_pred_0['SepalWidthCm'], s=50, c='c', marker='.', label='Pred C1')\n",
    "plt.scatter(X_train_pred_1['SepalLengthCm'],X_train_pred_1['SepalWidthCm'], s=50, c='g', marker='.', label='Pred C2')\n",
    "plt.scatter(X_train_pred_2['SepalLengthCm'],X_train_pred_2['SepalWidthCm'], s=50, c='r', marker='.', label='Pred C3')\n",
    "\n",
    "plt.legend()\n",
    "plt.show()"
   ]
  },
  {
   "cell_type": "markdown",
   "metadata": {},
   "source": [
    "There seems to be confusion among C2 and C3 in terms of Sepal Width and Sepal  Length as it seems to predict red (C3) when actually it is green (C2)"
   ]
  },
  {
   "cell_type": "code",
   "execution_count": 25,
   "metadata": {},
   "outputs": [
    {
     "data": {
      "text/html": [
       "<div>\n",
       "<style scoped>\n",
       "    .dataframe tbody tr th:only-of-type {\n",
       "        vertical-align: middle;\n",
       "    }\n",
       "\n",
       "    .dataframe tbody tr th {\n",
       "        vertical-align: top;\n",
       "    }\n",
       "\n",
       "    .dataframe thead th {\n",
       "        text-align: right;\n",
       "    }\n",
       "</style>\n",
       "<table border=\"1\" class=\"dataframe\">\n",
       "  <thead>\n",
       "    <tr style=\"text-align: right;\">\n",
       "      <th></th>\n",
       "      <th>intercept</th>\n",
       "      <th>SepalLengthCm</th>\n",
       "      <th>SepalWidthCm</th>\n",
       "      <th>PetalLengthCm</th>\n",
       "      <th>PetalWidthCm</th>\n",
       "    </tr>\n",
       "  </thead>\n",
       "  <tbody>\n",
       "    <tr>\n",
       "      <th>0</th>\n",
       "      <td>1</td>\n",
       "      <td>6.1</td>\n",
       "      <td>3.0</td>\n",
       "      <td>4.6</td>\n",
       "      <td>1.4</td>\n",
       "    </tr>\n",
       "    <tr>\n",
       "      <th>1</th>\n",
       "      <td>1</td>\n",
       "      <td>7.7</td>\n",
       "      <td>3.0</td>\n",
       "      <td>6.1</td>\n",
       "      <td>2.3</td>\n",
       "    </tr>\n",
       "    <tr>\n",
       "      <th>2</th>\n",
       "      <td>1</td>\n",
       "      <td>5.5</td>\n",
       "      <td>2.4</td>\n",
       "      <td>3.7</td>\n",
       "      <td>1.0</td>\n",
       "    </tr>\n",
       "    <tr>\n",
       "      <th>3</th>\n",
       "      <td>1</td>\n",
       "      <td>5.6</td>\n",
       "      <td>2.5</td>\n",
       "      <td>3.9</td>\n",
       "      <td>1.1</td>\n",
       "    </tr>\n",
       "    <tr>\n",
       "      <th>4</th>\n",
       "      <td>1</td>\n",
       "      <td>6.5</td>\n",
       "      <td>3.2</td>\n",
       "      <td>5.1</td>\n",
       "      <td>2.0</td>\n",
       "    </tr>\n",
       "  </tbody>\n",
       "</table>\n",
       "</div>"
      ],
      "text/plain": [
       "   intercept  SepalLengthCm  SepalWidthCm  PetalLengthCm  PetalWidthCm\n",
       "0          1            6.1           3.0            4.6           1.4\n",
       "1          1            7.7           3.0            6.1           2.3\n",
       "2          1            5.5           2.4            3.7           1.0\n",
       "3          1            5.6           2.5            3.9           1.1\n",
       "4          1            6.5           3.2            5.1           2.0"
      ]
     },
     "execution_count": 25,
     "metadata": {},
     "output_type": "execute_result"
    }
   ],
   "source": [
    "X_train[:5]"
   ]
  },
  {
   "cell_type": "code",
   "execution_count": 26,
   "metadata": {},
   "outputs": [
    {
     "data": {
      "image/png": "[encoded data removed]",
      "text/plain": [
       "<Figure size 432x288 with 1 Axes>"
      ]
     },
     "metadata": {
      "needs_background": "light"
     },
     "output_type": "display_data"
    }
   ],
   "source": [
    "plt.xlabel('PetalLengthCm')\n",
    "plt.ylabel('PetalWidthCm')\n",
    "plt.scatter(X_train_0['PetalLengthCm'],X_train_0['PetalWidthCm'], s=50, c='c', marker='o', label='Act C1')\n",
    "plt.scatter(X_train_1['PetalLengthCm'],X_train_1['PetalWidthCm'], s=50, c='g', marker='o', label='Act C2')\n",
    "plt.scatter(X_train_2['PetalLengthCm'],X_train_2['PetalWidthCm'], s=50, c='r', marker='o', label='Act C3')\n",
    "\n",
    "plt.scatter(X_train_pred_0['PetalLengthCm'],X_train_pred_0['PetalWidthCm'], s=50, c='c', marker='.', label='Pred C1')\n",
    "plt.scatter(X_train_pred_1['PetalLengthCm'],X_train_pred_1['PetalWidthCm'], s=50, c='g', marker='.', label='Pred C2')\n",
    "plt.scatter(X_train_pred_2['PetalLengthCm'],X_train_pred_2['PetalWidthCm'], s=50, c='r', marker='.', label='Pred C3')\n",
    "\n",
    "plt.legend()\n",
    "plt.show()"
   ]
  },
  {
   "cell_type": "markdown",
   "metadata": {},
   "source": [
    "Similar confusion among C2 and C3 in terms of Petal Width and Petal  Length as it seems to predict red (C3) when actually it is green (C2)"
   ]
  },
  {
   "cell_type": "code",
   "execution_count": 27,
   "metadata": {},
   "outputs": [
    {
     "data": {
      "image/png": "[encoded data removed]",
      "text/plain": [
       "<Figure size 432x288 with 1 Axes>"
      ]
     },
     "metadata": {
      "needs_background": "light"
     },
     "output_type": "display_data"
    }
   ],
   "source": [
    "plt.xlabel('PetalLengthCm')\n",
    "plt.ylabel('SepalLengthCm')\n",
    "plt.scatter(X_train_0['PetalLengthCm'],X_train_0['SepalLengthCm'], s=50, c='c', marker='o', label='Act C1')\n",
    "plt.scatter(X_train_1['PetalLengthCm'],X_train_1['SepalLengthCm'], s=50, c='g', marker='o', label='Act C2')\n",
    "plt.scatter(X_train_2['PetalLengthCm'],X_train_2['SepalLengthCm'], s=50, c='r', marker='o', label='Act C3')\n",
    "\n",
    "plt.scatter(X_train_pred_0['PetalLengthCm'],X_train_pred_0['SepalLengthCm'], s=50, c='c', marker='.', label='Pred C1')\n",
    "plt.scatter(X_train_pred_1['PetalLengthCm'],X_train_pred_1['SepalLengthCm'], s=50, c='g', marker='.', label='Pred C2')\n",
    "plt.scatter(X_train_pred_2['PetalLengthCm'],X_train_pred_2['SepalLengthCm'], s=50, c='r', marker='.', label='Pred C3')\n",
    "\n",
    "plt.legend()\n",
    "plt.show()"
   ]
  },
  {
   "cell_type": "code",
   "execution_count": 28,
   "metadata": {},
   "outputs": [
    {
     "data": {
      "image/png": "[encoded data removed]",
      "text/plain": [
       "<Figure size 432x288 with 1 Axes>"
      ]
     },
     "metadata": {
      "needs_background": "light"
     },
     "output_type": "display_data"
    }
   ],
   "source": [
    "plt.xlabel('PetalWidthCm')\n",
    "plt.ylabel('SepalWidthCm')\n",
    "plt.scatter(X_train_0['PetalWidthCm'],X_train_0['SepalWidthCm'], s=50, c='c', marker='o', label='Act C1')\n",
    "plt.scatter(X_train_1['PetalWidthCm'],X_train_1['SepalWidthCm'], s=50, c='g', marker='o', label='Act C2')\n",
    "plt.scatter(X_train_2['PetalWidthCm'],X_train_2['SepalWidthCm'], s=50, c='r', marker='o', label='Act C3')\n",
    "\n",
    "plt.scatter(X_train_pred_0['PetalWidthCm'],X_train_pred_0['SepalWidthCm'], s=50, c='c', marker='.', label='Pred C1')\n",
    "plt.scatter(X_train_pred_1['PetalWidthCm'],X_train_pred_1['SepalWidthCm'], s=50, c='g', marker='.', label='Pred C2')\n",
    "plt.scatter(X_train_pred_2['PetalWidthCm'],X_train_pred_2['SepalWidthCm'], s=50, c='r', marker='.', label='Pred C3')\n",
    "\n",
    "plt.legend()\n",
    "plt.show()"
   ]
  },
  {
   "cell_type": "markdown",
   "metadata": {},
   "source": [
    "The main confusion seems to between Class 2 and class 3 becuase the values of the Sepal Width,Sepal Lengt, Petal Length and Petal width seem to be very similar for these classes compared to class 1.\n"
   ]
  },
  {
   "cell_type": "markdown",
   "metadata": {
    "deletable": false,
    "editable": false,
    "nbgrader": {
     "cell_type": "markdown",
     "checksum": "29074975f2f5f4dff65a4c9ccfc006c5",
     "grade": false,
     "grade_id": "cell-11e3be2a06e07677",
     "locked": true,
     "points": 40,
     "schema_version": 3,
     "solution": false,
     "task": true
    }
   },
   "source": [
    "## On your own to take home\n",
    "\n",
    "We see that the Iris dataset is pretty easy. Depending on the train/test split, we get 95-100% accuracy.\n",
    "\n",
    "Find a more interesting multi-class classification problem on Kaggle (Tell the reference), clean the dataset to obtain numerical input features without missing values,\n",
    "split the data into test and train, and experiment with multinomial logistic regression.\n",
    "\n",
    "Write a brief report on your experiments and results. As always, turn in a Jupyter notebook by email\n",
    "to the instructor and TA.\n"
   ]
  },
  {
   "cell_type": "markdown",
   "metadata": {},
   "source": [
    "the dataset I have used is https://www.kaggle.com/parulpandey/palmer-archipelago-antarctica-penguin-data"
   ]
  },
  {
   "cell_type": "code",
   "execution_count": null,
   "metadata": {},
   "outputs": [],
   "source": [
    "\n"
   ]
  },
  {
   "cell_type": "code",
   "execution_count": 29,
   "metadata": {},
   "outputs": [],
   "source": [
    "X, y = load_data('penguins_size.csv',drop_label = None, y_label ='species')"
   ]
  },
  {
   "cell_type": "code",
   "execution_count": 30,
   "metadata": {},
   "outputs": [
    {
     "name": "stdout",
     "output_type": "stream",
     "text": [
      "the shape of X is (344, 6)\n",
      "the shape of y is (344,)\n"
     ]
    }
   ],
   "source": [
    "print('the shape of X is',X.shape)\n",
    "print('the shape of y is',y.shape)"
   ]
  },
  {
   "cell_type": "code",
   "execution_count": 31,
   "metadata": {},
   "outputs": [
    {
     "data": {
      "text/plain": [
       "island                0\n",
       "culmen_length_mm      2\n",
       "culmen_depth_mm       2\n",
       "flipper_length_mm     2\n",
       "body_mass_g           2\n",
       "sex                  10\n",
       "dtype: int64"
      ]
     },
     "execution_count": 31,
     "metadata": {},
     "output_type": "execute_result"
    }
   ],
   "source": [
    "X.isnull().sum() "
   ]
  },
  {
   "cell_type": "code",
   "execution_count": 32,
   "metadata": {},
   "outputs": [],
   "source": [
    "def fill_null(data):        \n",
    "    total_notnull = data.value_counts()\n",
    "    null = data.isnull().sum()\n",
    "    value0_ratio = total_notnull[0]/sum(total_notnull.values)\n",
    "    v0_train = int(round(value0_ratio * null ))\n",
    "    v1_train = int(null - v0_train)\n",
    "    print('amount of value 0',v0_train)\n",
    "    print('amount of value 1',v1_train)\n",
    "    print('===============BEFORE THE FILLING========== /n')\n",
    "    print(total_notnull)\n",
    "    print('Elements in the column', total_notnull.shape)\n",
    "    print('Ratio', value0_ratio)\n",
    "    data.fillna(total_notnull.index[0], inplace = True, limit = v0_train)\n",
    "    data.fillna(total_notnull.index[1], inplace = True, limit = v1_train)\n",
    "    print('===============AFTER THE FILLING========== /n')\n",
    "    total_notnull = data.value_counts()\n",
    "    print(total_notnull)\n",
    "    print('null values are', data.isnull().sum())\n",
    "   "
   ]
  },
  {
   "cell_type": "code",
   "execution_count": 33,
   "metadata": {},
   "outputs": [
    {
     "name": "stdout",
     "output_type": "stream",
     "text": [
      "amount of value 0 5\n",
      "amount of value 1 5\n",
      "===============BEFORE THE FILLING========== /n\n",
      "MALE      168\n",
      "FEMALE    165\n",
      ".           1\n",
      "Name: sex, dtype: int64\n",
      "Elements in the column (3,)\n",
      "Ratio 0.5029940119760479\n",
      "===============AFTER THE FILLING========== /n\n",
      "MALE      173\n",
      "FEMALE    170\n",
      ".           1\n",
      "Name: sex, dtype: int64\n",
      "null values are 0\n"
     ]
    }
   ],
   "source": [
    "fill_null(X['sex'])"
   ]
  },
  {
   "cell_type": "code",
   "execution_count": 34,
   "metadata": {},
   "outputs": [
    {
     "data": {
      "text/plain": [
       "MALE      173\n",
       "FEMALE    170\n",
       ".           1\n",
       "Name: sex, dtype: int64"
      ]
     },
     "execution_count": 34,
     "metadata": {},
     "output_type": "execute_result"
    }
   ],
   "source": [
    "X.sex.value_counts()"
   ]
  },
  {
   "cell_type": "code",
   "execution_count": 35,
   "metadata": {},
   "outputs": [],
   "source": [
    "def fill_numerical_null(series):\n",
    "    print(series.isnull().sum())\n",
    "    null_count = series.isnull().sum()\n",
    "    Value = series.value_counts()\n",
    "    mean_value= series.mean()\n",
    "\n",
    "    print('mean Value is ', mean_value)\n",
    "\n",
    "    series.fillna(mean_value, inplace=True, limit = null_count)\n",
    "    print(series.isnull().sum())\n",
    "   "
   ]
  },
  {
   "cell_type": "code",
   "execution_count": 36,
   "metadata": {},
   "outputs": [
    {
     "name": "stdout",
     "output_type": "stream",
     "text": [
      "2\n",
      "mean Value is  43.92192982456142\n",
      "0\n",
      "2\n",
      "mean Value is  17.151169590643278\n",
      "0\n",
      "2\n",
      "mean Value is  200.91520467836258\n",
      "0\n",
      "2\n",
      "mean Value is  4201.754385964912\n",
      "0\n"
     ]
    }
   ],
   "source": [
    "fill_numerical_null(X['culmen_length_mm'])\n",
    "fill_numerical_null(X['culmen_depth_mm'])\n",
    "fill_numerical_null(X['flipper_length_mm'])\n",
    "fill_numerical_null(X['body_mass_g'])"
   ]
  },
  {
   "cell_type": "code",
   "execution_count": 37,
   "metadata": {},
   "outputs": [
    {
     "data": {
      "text/plain": [
       "island               0\n",
       "culmen_length_mm     0\n",
       "culmen_depth_mm      0\n",
       "flipper_length_mm    0\n",
       "body_mass_g          0\n",
       "sex                  0\n",
       "dtype: int64"
      ]
     },
     "execution_count": 37,
     "metadata": {},
     "output_type": "execute_result"
    }
   ],
   "source": [
    "X.isnull().sum()"
   ]
  },
  {
   "cell_type": "code",
   "execution_count": 38,
   "metadata": {},
   "outputs": [],
   "source": [
    "def normalized_data(data):\n",
    "    means = np.mean(data, axis=0) #calculate the mean\n",
    "    stds = np.std(data, axis=0) #calculate the std \n",
    "    data_norm = (data - means) / stds\n",
    "    return data_norm"
   ]
  },
  {
   "cell_type": "code",
   "execution_count": 39,
   "metadata": {},
   "outputs": [],
   "source": [
    "X_norm = normalized_data(X[['culmen_length_mm','culmen_depth_mm','flipper_length_mm','body_mass_g']].astype(float))"
   ]
  },
  {
   "cell_type": "code",
   "execution_count": 40,
   "metadata": {},
   "outputs": [
    {
     "data": {
      "text/html": [
       "<div>\n",
       "<style scoped>\n",
       "    .dataframe tbody tr th:only-of-type {\n",
       "        vertical-align: middle;\n",
       "    }\n",
       "\n",
       "    .dataframe tbody tr th {\n",
       "        vertical-align: top;\n",
       "    }\n",
       "\n",
       "    .dataframe thead th {\n",
       "        text-align: right;\n",
       "    }\n",
       "</style>\n",
       "<table border=\"1\" class=\"dataframe\">\n",
       "  <thead>\n",
       "    <tr style=\"text-align: right;\">\n",
       "      <th></th>\n",
       "      <th>island</th>\n",
       "      <th>culmen_length_mm</th>\n",
       "      <th>culmen_depth_mm</th>\n",
       "      <th>flipper_length_mm</th>\n",
       "      <th>body_mass_g</th>\n",
       "      <th>sex</th>\n",
       "    </tr>\n",
       "  </thead>\n",
       "  <tbody>\n",
       "    <tr>\n",
       "      <th>0</th>\n",
       "      <td>2</td>\n",
       "      <td>39.10000</td>\n",
       "      <td>18.70000</td>\n",
       "      <td>181.000000</td>\n",
       "      <td>3750.000000</td>\n",
       "      <td>0</td>\n",
       "    </tr>\n",
       "    <tr>\n",
       "      <th>1</th>\n",
       "      <td>2</td>\n",
       "      <td>39.50000</td>\n",
       "      <td>17.40000</td>\n",
       "      <td>186.000000</td>\n",
       "      <td>3800.000000</td>\n",
       "      <td>1</td>\n",
       "    </tr>\n",
       "    <tr>\n",
       "      <th>2</th>\n",
       "      <td>2</td>\n",
       "      <td>40.30000</td>\n",
       "      <td>18.00000</td>\n",
       "      <td>195.000000</td>\n",
       "      <td>3250.000000</td>\n",
       "      <td>1</td>\n",
       "    </tr>\n",
       "    <tr>\n",
       "      <th>3</th>\n",
       "      <td>2</td>\n",
       "      <td>43.92193</td>\n",
       "      <td>17.15117</td>\n",
       "      <td>200.915205</td>\n",
       "      <td>4201.754386</td>\n",
       "      <td>0</td>\n",
       "    </tr>\n",
       "    <tr>\n",
       "      <th>4</th>\n",
       "      <td>2</td>\n",
       "      <td>36.70000</td>\n",
       "      <td>19.30000</td>\n",
       "      <td>193.000000</td>\n",
       "      <td>3450.000000</td>\n",
       "      <td>1</td>\n",
       "    </tr>\n",
       "  </tbody>\n",
       "</table>\n",
       "</div>"
      ],
      "text/plain": [
       "   island  culmen_length_mm  culmen_depth_mm  flipper_length_mm  body_mass_g  \\\n",
       "0       2          39.10000         18.70000         181.000000  3750.000000   \n",
       "1       2          39.50000         17.40000         186.000000  3800.000000   \n",
       "2       2          40.30000         18.00000         195.000000  3250.000000   \n",
       "3       2          43.92193         17.15117         200.915205  4201.754386   \n",
       "4       2          36.70000         19.30000         193.000000  3450.000000   \n",
       "\n",
       "   sex  \n",
       "0    0  \n",
       "1    1  \n",
       "2    1  \n",
       "3    0  \n",
       "4    1  "
      ]
     },
     "execution_count": 40,
     "metadata": {},
     "output_type": "execute_result"
    }
   ],
   "source": [
    "X['sex'].replace('MALE', 0, inplace = True)\n",
    "X['sex'].replace('FEMALE', 1, inplace = True)\n",
    "X['sex'].replace('.', 1, inplace = True) # only 1 row has '.' so replacing it with female\n",
    "X['island'].replace('Biscoe', 0, inplace = True)\n",
    "X['island'].replace('Dream', 1, inplace = True)\n",
    "X['island'].replace('Torgersen', 2, inplace = True)\n",
    "X[:5]"
   ]
  },
  {
   "cell_type": "code",
   "execution_count": 41,
   "metadata": {},
   "outputs": [],
   "source": [
    "X_norm.insert(0, 'island', X.island)\n",
    "X_norm.insert(5, 'sex', X.sex)\n",
    "X_norm.insert(0, 'intercept', 1)\n",
    "X_norm = X_norm.astype(float)\n"
   ]
  },
  {
   "cell_type": "code",
   "execution_count": 42,
   "metadata": {},
   "outputs": [
    {
     "data": {
      "text/html": [
       "<div>\n",
       "<style scoped>\n",
       "    .dataframe tbody tr th:only-of-type {\n",
       "        vertical-align: middle;\n",
       "    }\n",
       "\n",
       "    .dataframe tbody tr th {\n",
       "        vertical-align: top;\n",
       "    }\n",
       "\n",
       "    .dataframe thead th {\n",
       "        text-align: right;\n",
       "    }\n",
       "</style>\n",
       "<table border=\"1\" class=\"dataframe\">\n",
       "  <thead>\n",
       "    <tr style=\"text-align: right;\">\n",
       "      <th></th>\n",
       "      <th>intercept</th>\n",
       "      <th>island</th>\n",
       "      <th>culmen_length_mm</th>\n",
       "      <th>culmen_depth_mm</th>\n",
       "      <th>flipper_length_mm</th>\n",
       "      <th>body_mass_g</th>\n",
       "      <th>sex</th>\n",
       "    </tr>\n",
       "  </thead>\n",
       "  <tbody>\n",
       "    <tr>\n",
       "      <th>0</th>\n",
       "      <td>1.0</td>\n",
       "      <td>2.0</td>\n",
       "      <td>-8.870812e-01</td>\n",
       "      <td>7.877425e-01</td>\n",
       "      <td>-1.422488</td>\n",
       "      <td>-0.565789</td>\n",
       "      <td>0.0</td>\n",
       "    </tr>\n",
       "    <tr>\n",
       "      <th>1</th>\n",
       "      <td>1.0</td>\n",
       "      <td>2.0</td>\n",
       "      <td>-8.134940e-01</td>\n",
       "      <td>1.265563e-01</td>\n",
       "      <td>-1.065352</td>\n",
       "      <td>-0.503168</td>\n",
       "      <td>1.0</td>\n",
       "    </tr>\n",
       "    <tr>\n",
       "      <th>2</th>\n",
       "      <td>1.0</td>\n",
       "      <td>2.0</td>\n",
       "      <td>-6.663195e-01</td>\n",
       "      <td>4.317192e-01</td>\n",
       "      <td>-0.422507</td>\n",
       "      <td>-1.192003</td>\n",
       "      <td>1.0</td>\n",
       "    </tr>\n",
       "    <tr>\n",
       "      <th>3</th>\n",
       "      <td>1.0</td>\n",
       "      <td>2.0</td>\n",
       "      <td>1.307172e-15</td>\n",
       "      <td>1.806927e-15</td>\n",
       "      <td>0.000000</td>\n",
       "      <td>0.000000</td>\n",
       "      <td>0.0</td>\n",
       "    </tr>\n",
       "    <tr>\n",
       "      <th>4</th>\n",
       "      <td>1.0</td>\n",
       "      <td>2.0</td>\n",
       "      <td>-1.328605e+00</td>\n",
       "      <td>1.092905e+00</td>\n",
       "      <td>-0.565361</td>\n",
       "      <td>-0.941517</td>\n",
       "      <td>1.0</td>\n",
       "    </tr>\n",
       "    <tr>\n",
       "      <th>...</th>\n",
       "      <td>...</td>\n",
       "      <td>...</td>\n",
       "      <td>...</td>\n",
       "      <td>...</td>\n",
       "      <td>...</td>\n",
       "      <td>...</td>\n",
       "      <td>...</td>\n",
       "    </tr>\n",
       "    <tr>\n",
       "      <th>339</th>\n",
       "      <td>1.0</td>\n",
       "      <td>0.0</td>\n",
       "      <td>1.307172e-15</td>\n",
       "      <td>1.806927e-15</td>\n",
       "      <td>0.000000</td>\n",
       "      <td>0.000000</td>\n",
       "      <td>1.0</td>\n",
       "    </tr>\n",
       "    <tr>\n",
       "      <th>340</th>\n",
       "      <td>1.0</td>\n",
       "      <td>0.0</td>\n",
       "      <td>5.294731e-01</td>\n",
       "      <td>-1.450118e+00</td>\n",
       "      <td>1.006038</td>\n",
       "      <td>0.811880</td>\n",
       "      <td>1.0</td>\n",
       "    </tr>\n",
       "    <tr>\n",
       "      <th>341</th>\n",
       "      <td>1.0</td>\n",
       "      <td>0.0</td>\n",
       "      <td>1.191758e+00</td>\n",
       "      <td>-7.380718e-01</td>\n",
       "      <td>1.506028</td>\n",
       "      <td>1.939064</td>\n",
       "      <td>0.0</td>\n",
       "    </tr>\n",
       "    <tr>\n",
       "      <th>342</th>\n",
       "      <td>1.0</td>\n",
       "      <td>0.0</td>\n",
       "      <td>2.351241e-01</td>\n",
       "      <td>-1.195816e+00</td>\n",
       "      <td>0.791756</td>\n",
       "      <td>1.250229</td>\n",
       "      <td>1.0</td>\n",
       "    </tr>\n",
       "    <tr>\n",
       "      <th>343</th>\n",
       "      <td>1.0</td>\n",
       "      <td>0.0</td>\n",
       "      <td>1.099774e+00</td>\n",
       "      <td>-5.346299e-01</td>\n",
       "      <td>0.863183</td>\n",
       "      <td>1.500715</td>\n",
       "      <td>0.0</td>\n",
       "    </tr>\n",
       "  </tbody>\n",
       "</table>\n",
       "<p>344 rows × 7 columns</p>\n",
       "</div>"
      ],
      "text/plain": [
       "     intercept  island  culmen_length_mm  culmen_depth_mm  flipper_length_mm  \\\n",
       "0          1.0     2.0     -8.870812e-01     7.877425e-01          -1.422488   \n",
       "1          1.0     2.0     -8.134940e-01     1.265563e-01          -1.065352   \n",
       "2          1.0     2.0     -6.663195e-01     4.317192e-01          -0.422507   \n",
       "3          1.0     2.0      1.307172e-15     1.806927e-15           0.000000   \n",
       "4          1.0     2.0     -1.328605e+00     1.092905e+00          -0.565361   \n",
       "..         ...     ...               ...              ...                ...   \n",
       "339        1.0     0.0      1.307172e-15     1.806927e-15           0.000000   \n",
       "340        1.0     0.0      5.294731e-01    -1.450118e+00           1.006038   \n",
       "341        1.0     0.0      1.191758e+00    -7.380718e-01           1.506028   \n",
       "342        1.0     0.0      2.351241e-01    -1.195816e+00           0.791756   \n",
       "343        1.0     0.0      1.099774e+00    -5.346299e-01           0.863183   \n",
       "\n",
       "     body_mass_g  sex  \n",
       "0      -0.565789  0.0  \n",
       "1      -0.503168  1.0  \n",
       "2      -1.192003  1.0  \n",
       "3       0.000000  0.0  \n",
       "4      -0.941517  1.0  \n",
       "..           ...  ...  \n",
       "339     0.000000  1.0  \n",
       "340     0.811880  1.0  \n",
       "341     1.939064  0.0  \n",
       "342     1.250229  1.0  \n",
       "343     1.500715  0.0  \n",
       "\n",
       "[344 rows x 7 columns]"
      ]
     },
     "execution_count": 42,
     "metadata": {},
     "output_type": "execute_result"
    }
   ],
   "source": [
    "X_norm"
   ]
  },
  {
   "cell_type": "code",
   "execution_count": 43,
   "metadata": {},
   "outputs": [
    {
     "name": "stdout",
     "output_type": "stream",
     "text": [
      "Adelie\n",
      "Chinstrap\n",
      "Gentoo\n"
     ]
    }
   ],
   "source": [
    "percent_train = 0.7\n",
    "idx, X_train, y_train, X_test, y_test, y_labels_name, y_labels_new = partition(X_norm, y, percent_train)"
   ]
  },
  {
   "cell_type": "code",
   "execution_count": 44,
   "metadata": {},
   "outputs": [
    {
     "data": {
      "image/png": "[encoded data removed]",
      "text/plain": [
       "<Figure size 432x288 with 1 Axes>"
      ]
     },
     "metadata": {
      "needs_background": "light"
     },
     "output_type": "display_data"
    }
   ],
   "source": [
    "theta_arr = []\n",
    "cost_arr = []\n",
    "accuracy_arr = []\n",
    "\n",
    "r, c = X_train.shape\n",
    "num_class = len(np.unique(y))\n",
    "\n",
    "# design your own learning rate and num iterations\n",
    "alpha_arr = np.array([0.01, 0.02, 0.03, 0.04])\n",
    "iterations_arr = np.array([50, 100, 150, 200])\n",
    "theta_initial = np.ones((num_class, c))\n",
    "\n",
    "def prediction(X, theta):\n",
    "    y_pred = []\n",
    "    \n",
    "    for index,row in X.iterrows(): # get a row of X_test data\n",
    "        # calculate y_hat using hypothesis function\n",
    "        y_hat = h(row, theta, num_class)\n",
    "        # find the index (integer value) of maximum value in y_hat and input back to prediction\n",
    "        result = int(np.where(y_hat == np.amax(y_hat))[0])\n",
    "        prediction = result\n",
    "\n",
    "        # collect the result\n",
    "        y_pred.append(prediction)\n",
    "    return y_pred\n",
    "\n",
    "for i in range(4):\n",
    "    theta, cost = my_gradient_descent(X_train, y_train, theta_initial, alpha_arr[i], iterations_arr[i], num_class)\n",
    "    theta_arr.append(theta)\n",
    "    cost_arr.append(cost)\n",
    "    y_pred = prediction(X_test, theta)\n",
    "    accuracy = calc_accuracy(y_test, y_pred)\n",
    "    accuracy_arr.append(accuracy)\n",
    "    \n",
    "plt.plot(cost_arr[0], label='alpha:' + str(alpha_arr[0]) + ' acc:'+ str(round(accuracy_arr[0],2)))\n",
    "plt.plot(cost_arr[1], label='alpha:' + str(alpha_arr[1]) + ' acc:'+ str(round(accuracy_arr[1],2)))\n",
    "plt.plot(cost_arr[2], label='alpha:' + str(alpha_arr[2]) + ' acc:'+ str(round(accuracy_arr[2],2)))\n",
    "plt.plot(cost_arr[3], label='alpha:' + str(alpha_arr[3]) + ' acc:'+ str(round(accuracy_arr[3],2)))\n",
    "plt.xlabel(\"Iteration\")\n",
    "plt.ylabel(\"cost\")\n",
    "plt.legend()\n",
    "plt.show()"
   ]
  },
  {
   "cell_type": "code",
   "execution_count": 45,
   "metadata": {},
   "outputs": [
    {
     "name": "stdout",
     "output_type": "stream",
     "text": [
      "0.8879668049792531\n",
      "0.91701244813278\n",
      "0.9626556016597511\n",
      "0.975103734439834\n"
     ]
    },
    {
     "data": {
      "text/plain": [
       "array([[ 1.10095639,  1.27208178, -0.05838205,  1.53666242,  0.53043676,\n",
       "         0.81953339,  0.84025414],\n",
       "       [ 0.86744745,  1.15547074,  1.81763091,  1.26554997,  0.77641514,\n",
       "         0.52317019,  1.06000054],\n",
       "       [ 1.03159616,  0.57244748,  1.24075114,  0.19778761,  1.6931481 ,\n",
       "         1.65729642,  1.09974532]])"
      ]
     },
     "execution_count": 45,
     "metadata": {},
     "output_type": "execute_result"
    }
   ],
   "source": [
    "for i in theta_arr:\n",
    "    y_pred = prediction(X_train, i)\n",
    "    accuracy = calc_accuracy(y_train, y_pred)\n",
    "    print(accuracy)\n",
    "\n",
    "theta_arr[3]\n",
    "\n",
    "#picking the best theta"
   ]
  },
  {
   "cell_type": "code",
   "execution_count": 46,
   "metadata": {},
   "outputs": [
    {
     "name": "stdout",
     "output_type": "stream",
     "text": [
      "Accuracy is => 0.975103734439834\n",
      "(241, 7)\n"
     ]
    }
   ],
   "source": [
    "y_pred = prediction(X_train, theta_arr[3])\n",
    "accuracy = calc_accuracy(y_train, y_pred)\n",
    "print(\"Accuracy is =>\", accuracy)\n",
    "print(X_train.shape)\n",
    "m, n = X_train.shape\n",
    "\n",
    "#list of indexes of classes of each\n",
    "X_train_i0 = [index for index in range(len(y_train)) if y_train[index] == 0]\n",
    "X_train_i1 = [index for index in range(len(y_train)) if y_train[index] == 1]\n",
    "X_train_i2 = [index for index in range(len(y_train)) if y_train[index] == 2]\n",
    "\n",
    "#list of indexes of predicted classes of each\n",
    "X_train_pred_i0 = [index for index in range(len(y_pred)) if y_pred[index] == 0]\n",
    "X_train_pred_i1 = [index for index in range(len(y_pred)) if y_pred[index] == 1]\n",
    "X_train_pred_i2 = [index for index in range(len(y_pred)) if y_pred[index] == 2]\n",
    "\n",
    "error_index = [index for index in range(len(y_train)) if y_train[index] != y_pred[index]]\n",
    "\n",
    "#Split X_train real classes      \n",
    "X_train_0 = X_train.iloc[X_train_i0, :]\n",
    "X_train_1 = X_train.iloc[X_train_i1, :]\n",
    "X_train_2 = X_train.iloc[X_train_i2, :]\n",
    "\n",
    "#Split X_train predicted class\n",
    "X_train_pred_0 = X_train.iloc[X_train_pred_i0, :]\n",
    "X_train_pred_1 = X_train.iloc[X_train_pred_i1, :]\n",
    "X_train_pred_2 = X_train.iloc[X_train_pred_i2, :]\n"
   ]
  },
  {
   "cell_type": "markdown",
   "metadata": {},
   "source": [
    "Now for some graphical analysis.\n",
    "Culmen is a  the upper ridge of a bird's bill.\n",
    "Flippers are the \"wings\" of a penguin."
   ]
  },
  {
   "cell_type": "code",
   "execution_count": 47,
   "metadata": {},
   "outputs": [
    {
     "data": {
      "image/png": "[encoded data removed]",
      "text/plain": [
       "<Figure size 432x288 with 1 Axes>"
      ]
     },
     "metadata": {
      "needs_background": "light"
     },
     "output_type": "display_data"
    }
   ],
   "source": [
    "#plot\n",
    "plt.xlabel('culmen_length_mm')\n",
    "plt.ylabel('culmen_depth_mm')\n",
    "plt.scatter(X_train_0['culmen_length_mm'],X_train_0['culmen_depth_mm'], s=50, c='c', marker='o', label='Act C1')\n",
    "plt.scatter(X_train_1['culmen_length_mm'],X_train_1['culmen_depth_mm'], s=50, c='g', marker='o', label='Act C2')\n",
    "plt.scatter(X_train_2['culmen_length_mm'],X_train_2['culmen_depth_mm'], s=50, c='r', marker='o', label='Act C3')\n",
    "\n",
    "plt.scatter(X_train_pred_0['culmen_length_mm'],X_train_pred_0['culmen_depth_mm'], s=50, c='c', marker='.', label='Pred C1')\n",
    "plt.scatter(X_train_pred_1['culmen_length_mm'],X_train_pred_1['culmen_depth_mm'], s=50, c='g', marker='.', label='Pred C2')\n",
    "plt.scatter(X_train_pred_2['culmen_length_mm'],X_train_pred_2['culmen_depth_mm'], s=50, c='r', marker='.', label='Pred C3')\n",
    "\n",
    "plt.legend()\n",
    "plt.show()"
   ]
  },
  {
   "cell_type": "code",
   "execution_count": 48,
   "metadata": {},
   "outputs": [
    {
     "data": {
      "image/png": "[encoded data removed]",
      "text/plain": [
       "<Figure size 432x288 with 1 Axes>"
      ]
     },
     "metadata": {
      "needs_background": "light"
     },
     "output_type": "display_data"
    }
   ],
   "source": [
    "#plot\n",
    "plt.xlabel('flipper_length_mm')\n",
    "plt.ylabel('body_mass_g')\n",
    "plt.scatter(X_train_0['flipper_length_mm'],X_train_0['body_mass_g'], s=50, c='c', marker='o', label='Act C1')\n",
    "plt.scatter(X_train_1['flipper_length_mm'],X_train_1['body_mass_g'], s=50, c='g', marker='o', label='Act C2')\n",
    "plt.scatter(X_train_2['flipper_length_mm'],X_train_2['body_mass_g'], s=50, c='r', marker='o', label='Act C3')\n",
    "\n",
    "plt.scatter(X_train_pred_0['flipper_length_mm'],X_train_pred_0['body_mass_g'], s=50, c='c', marker='.', label='Pred C1')\n",
    "plt.scatter(X_train_pred_1['flipper_length_mm'],X_train_pred_1['body_mass_g'], s=50, c='g', marker='.', label='Pred C2')\n",
    "plt.scatter(X_train_pred_2['flipper_length_mm'],X_train_pred_2['body_mass_g'], s=50, c='r', marker='.', label='Pred C3')\n",
    "\n",
    "plt.legend()\n",
    "plt.show()"
   ]
  },
  {
   "cell_type": "markdown",
   "metadata": {},
   "source": [
    "We can see that the flipper length and body mass are highly correlated features.\n",
    "The C2 and C1 seem to be around the same general area in the graph but are mostly still classified correctly except a few which could be due to very similar values in body mass and flipper length"
   ]
  },
  {
   "cell_type": "code",
   "execution_count": 49,
   "metadata": {},
   "outputs": [
    {
     "data": {
      "image/png": "[encoded data removed]",
      "text/plain": [
       "<Figure size 432x288 with 1 Axes>"
      ]
     },
     "metadata": {
      "needs_background": "light"
     },
     "output_type": "display_data"
    }
   ],
   "source": [
    "#plot\n",
    "plt.xlabel('island')\n",
    "plt.ylabel('body_mass_g')\n",
    "plt.scatter(X_train_0['island'],X_train_0['body_mass_g'], s=50, c='c', marker='o', label='Act C1')\n",
    "plt.scatter(X_train_1['island'],X_train_1['body_mass_g'], s=50, c='g', marker='o', label='Act C2')\n",
    "plt.scatter(X_train_2['island'],X_train_2['body_mass_g'], s=50, c='r', marker='o', label='Act C3')\n",
    "\n",
    "plt.scatter(X_train_pred_0['island'],X_train_pred_0['body_mass_g'], s=50, c='c', marker='.', label='Pred C1')\n",
    "plt.scatter(X_train_pred_1['island'],X_train_pred_1['body_mass_g'], s=50, c='g', marker='.', label='Pred C2')\n",
    "plt.scatter(X_train_pred_2['island'],X_train_pred_2['body_mass_g'], s=50, c='r', marker='.', label='Pred C3')\n",
    "\n",
    "plt.legend()\n",
    "plt.show()"
   ]
  },
  {
   "cell_type": "markdown",
   "metadata": {},
   "source": [
    "Here we can see that among the penguin classes C1 mostly lives in island 2, C2 mostly lives in Island 1 and C3 mostly lives in island 0 along with some C1"
   ]
  },
  {
   "cell_type": "markdown",
   "metadata": {},
   "source": [
    "So in this penguin data set of 3 classes and 344 samples and 6 features we normalised  the data and trained it using logistic regression.\n",
    "So with alpha value of 0.04 a training accuracy of 97% was achieved and it was used to predict the penguin classes based on the given features.\n",
    "The above graphs show the different distribution of the penguins based on the various features."
   ]
  },
  {
   "cell_type": "code",
   "execution_count": null,
   "metadata": {},
   "outputs": [],
   "source": []
  }
 ],
 "metadata": {
  "kernelspec": {
   "display_name": "Python 3 (ipykernel)",
   "language": "python",
   "name": "python3"
  },
  "language_info": {
   "codemirror_mode": {
    "name": "ipython",
    "version": 3
   },
   "file_extension": ".py",
   "mimetype": "text/x-python",
   "name": "python",
   "nbconvert_exporter": "python",
   "pygments_lexer": "ipython3",
   "version": "3.8.3"
  }
 },
 "nbformat": 4,
 "nbformat_minor": 4
}
